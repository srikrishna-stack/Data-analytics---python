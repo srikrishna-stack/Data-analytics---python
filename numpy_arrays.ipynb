{
 "cells": [
  {
   "cell_type": "code",
   "execution_count": 1,
   "id": "bcf87165-3693-4e7a-a936-d2d0403232aa",
   "metadata": {},
   "outputs": [],
   "source": [
    "import numpy as np"
   ]
  },
  {
   "cell_type": "code",
   "execution_count": 2,
   "id": "f28b0832-b63c-4ea3-a652-0899dee57c25",
   "metadata": {},
   "outputs": [],
   "source": [
    "x=[[1,2,3,4],[3,4,6,10]]"
   ]
  },
  {
   "cell_type": "code",
   "execution_count": 3,
   "id": "68c77e09-37cb-4eba-92a0-17cded42d347",
   "metadata": {},
   "outputs": [
    {
     "name": "stdout",
     "output_type": "stream",
     "text": [
      "[[ 1  2  3  4]\n",
      " [ 3  4  6 10]]\n"
     ]
    }
   ],
   "source": [
    "#numpy cn abe any dimension\n",
    "#x[row:column]\n",
    "y=np.array(x)\n",
    "print(y)"
   ]
  },
  {
   "cell_type": "code",
   "execution_count": 4,
   "id": "067a05d2-ede7-4bf6-9509-ef9fa2600faf",
   "metadata": {},
   "outputs": [
    {
     "data": {
      "text/plain": [
       "array([[2, 3],\n",
       "       [4, 6]])"
      ]
     },
     "execution_count": 4,
     "metadata": {},
     "output_type": "execute_result"
    }
   ],
   "source": [
    "y[:,1:3] #y[row_start:row_end,column_start:column_end]\n"
   ]
  },
  {
   "cell_type": "code",
   "execution_count": 5,
   "id": "6cbdb73d-b78a-443f-8c47-ed77cb4e3262",
   "metadata": {},
   "outputs": [
    {
     "data": {
      "text/plain": [
       "2"
      ]
     },
     "execution_count": 5,
     "metadata": {},
     "output_type": "execute_result"
    }
   ],
   "source": [
    "y.ndim"
   ]
  },
  {
   "cell_type": "code",
   "execution_count": 6,
   "id": "5fff162e-61e6-4dac-9136-c5c9ac974672",
   "metadata": {},
   "outputs": [
    {
     "data": {
      "text/plain": [
       "(2, 4)"
      ]
     },
     "execution_count": 6,
     "metadata": {},
     "output_type": "execute_result"
    }
   ],
   "source": [
    "y.shape"
   ]
  },
  {
   "cell_type": "code",
   "execution_count": 7,
   "id": "9ac9a0ec-cb6a-4472-a3c4-80f7ee32839a",
   "metadata": {},
   "outputs": [],
   "source": [
    "x1=[[[1,2,3,4],[3,4,6,10]],[[1,2,3,4],[3,4,6,10]]]"
   ]
  },
  {
   "cell_type": "code",
   "execution_count": 8,
   "id": "8345a4e4-0def-4ea7-956b-b94f7cdb8139",
   "metadata": {},
   "outputs": [],
   "source": [
    "y1=np.array(x1)"
   ]
  },
  {
   "cell_type": "code",
   "execution_count": 9,
   "id": "3aef691f-38eb-493f-9d87-b1e61c2c241a",
   "metadata": {},
   "outputs": [
    {
     "name": "stdout",
     "output_type": "stream",
     "text": [
      "[[[ 1  2  3  4]\n",
      "  [ 3  4  6 10]]\n",
      "\n",
      " [[ 1  2  3  4]\n",
      "  [ 3  4  6 10]]]\n"
     ]
    }
   ],
   "source": [
    "print(y1)"
   ]
  },
  {
   "cell_type": "code",
   "execution_count": 10,
   "id": "061c22b3-bbbe-473a-878a-d4d14e7efe87",
   "metadata": {},
   "outputs": [
    {
     "data": {
      "text/plain": [
       "array([[[ 1,  2,  3,  4],\n",
       "        [ 3,  4,  6, 10]],\n",
       "\n",
       "       [[ 1,  2,  3,  4],\n",
       "        [ 3,  4,  6, 10]]])"
      ]
     },
     "execution_count": 10,
     "metadata": {},
     "output_type": "execute_result"
    }
   ],
   "source": [
    "y1[:,:2,:]"
   ]
  },
  {
   "cell_type": "code",
   "execution_count": 11,
   "id": "1035c55d-6934-4360-8910-8db9fa00a3ce",
   "metadata": {},
   "outputs": [
    {
     "data": {
      "text/plain": [
       "array([[[1, 2],\n",
       "        [3, 4]],\n",
       "\n",
       "       [[1, 2],\n",
       "        [3, 4]]])"
      ]
     },
     "execution_count": 11,
     "metadata": {},
     "output_type": "execute_result"
    }
   ],
   "source": [
    "y1[:,:2,:2]"
   ]
  },
  {
   "cell_type": "code",
   "execution_count": 12,
   "id": "551a8025-f737-4be0-9fac-29458dd31a53",
   "metadata": {},
   "outputs": [
    {
     "data": {
      "text/plain": [
       "array([[[[0.5488135 , 0.71518937, 0.60276338, 0.54488318],\n",
       "         [0.4236548 , 0.64589411, 0.43758721, 0.891773  ],\n",
       "         [0.96366276, 0.38344152, 0.79172504, 0.52889492]],\n",
       "\n",
       "        [[0.56804456, 0.92559664, 0.07103606, 0.0871293 ],\n",
       "         [0.0202184 , 0.83261985, 0.77815675, 0.87001215],\n",
       "         [0.97861834, 0.79915856, 0.46147936, 0.78052918]],\n",
       "\n",
       "        [[0.11827443, 0.63992102, 0.14335329, 0.94466892],\n",
       "         [0.52184832, 0.41466194, 0.26455561, 0.77423369],\n",
       "         [0.45615033, 0.56843395, 0.0187898 , 0.6176355 ]]],\n",
       "\n",
       "\n",
       "       [[[0.61209572, 0.616934  , 0.94374808, 0.6818203 ],\n",
       "         [0.3595079 , 0.43703195, 0.6976312 , 0.06022547],\n",
       "         [0.66676672, 0.67063787, 0.21038256, 0.1289263 ]],\n",
       "\n",
       "        [[0.31542835, 0.36371077, 0.57019677, 0.43860151],\n",
       "         [0.98837384, 0.10204481, 0.20887676, 0.16130952],\n",
       "         [0.65310833, 0.2532916 , 0.46631077, 0.24442559]],\n",
       "\n",
       "        [[0.15896958, 0.11037514, 0.65632959, 0.13818295],\n",
       "         [0.19658236, 0.36872517, 0.82099323, 0.09710128],\n",
       "         [0.83794491, 0.09609841, 0.97645947, 0.4686512 ]]]])"
      ]
     },
     "execution_count": 12,
     "metadata": {},
     "output_type": "execute_result"
    }
   ],
   "source": [
    "np.random.seed(0)\n",
    "k=np.random.rand(2,3,3,4)\n",
    "k"
   ]
  },
  {
   "cell_type": "code",
   "execution_count": 13,
   "id": "2be80d6f-c96c-4fb6-9a75-37f35b2b713a",
   "metadata": {},
   "outputs": [
    {
     "data": {
      "text/plain": [
       "array([[[[0.5488135 , 0.71518937],\n",
       "         [0.4236548 , 0.64589411],\n",
       "         [0.96366276, 0.38344152]],\n",
       "\n",
       "        [[0.56804456, 0.92559664],\n",
       "         [0.0202184 , 0.83261985],\n",
       "         [0.97861834, 0.79915856]],\n",
       "\n",
       "        [[0.11827443, 0.63992102],\n",
       "         [0.52184832, 0.41466194],\n",
       "         [0.45615033, 0.56843395]]],\n",
       "\n",
       "\n",
       "       [[[0.61209572, 0.616934  ],\n",
       "         [0.3595079 , 0.43703195],\n",
       "         [0.66676672, 0.67063787]],\n",
       "\n",
       "        [[0.31542835, 0.36371077],\n",
       "         [0.98837384, 0.10204481],\n",
       "         [0.65310833, 0.2532916 ]],\n",
       "\n",
       "        [[0.15896958, 0.11037514],\n",
       "         [0.19658236, 0.36872517],\n",
       "         [0.83794491, 0.09609841]]]])"
      ]
     },
     "execution_count": 13,
     "metadata": {},
     "output_type": "execute_result"
    }
   ],
   "source": [
    "k[:,:,:3,:2]"
   ]
  },
  {
   "cell_type": "code",
   "execution_count": 14,
   "id": "4c1175df-22f7-401a-9fc6-d746fd96c2e1",
   "metadata": {},
   "outputs": [
    {
     "data": {
      "text/plain": [
       "array([[[[0.5488135 , 0.71518937],\n",
       "         [0.4236548 , 0.64589411],\n",
       "         [0.96366276, 0.38344152]]],\n",
       "\n",
       "\n",
       "       [[[0.61209572, 0.616934  ],\n",
       "         [0.3595079 , 0.43703195],\n",
       "         [0.66676672, 0.67063787]]]])"
      ]
     },
     "execution_count": 14,
     "metadata": {},
     "output_type": "execute_result"
    }
   ],
   "source": [
    "k[:,:1,:3,:2]"
   ]
  },
  {
   "cell_type": "code",
   "execution_count": 15,
   "id": "4ef5e1db-ea6f-400a-86e0-569167968eff",
   "metadata": {},
   "outputs": [
    {
     "data": {
      "text/plain": [
       "array([[[[1., 1., 1., 1.],\n",
       "         [1., 1., 1., 1.],\n",
       "         [1., 1., 1., 1.]],\n",
       "\n",
       "        [[1., 1., 1., 1.],\n",
       "         [1., 1., 1., 1.],\n",
       "         [1., 1., 1., 1.]],\n",
       "\n",
       "        [[1., 1., 1., 1.],\n",
       "         [1., 1., 1., 1.],\n",
       "         [1., 1., 1., 1.]]],\n",
       "\n",
       "\n",
       "       [[[1., 1., 1., 1.],\n",
       "         [1., 1., 1., 1.],\n",
       "         [1., 1., 1., 1.]],\n",
       "\n",
       "        [[1., 1., 1., 1.],\n",
       "         [1., 1., 1., 1.],\n",
       "         [1., 1., 1., 1.]],\n",
       "\n",
       "        [[1., 1., 1., 1.],\n",
       "         [1., 1., 1., 1.],\n",
       "         [1., 1., 1., 1.]]]])"
      ]
     },
     "execution_count": 15,
     "metadata": {},
     "output_type": "execute_result"
    }
   ],
   "source": [
    "np.ones_like(k)"
   ]
  },
  {
   "cell_type": "code",
   "execution_count": 16,
   "id": "b728e6f2-c9d0-47e8-98a6-9c8c16b98603",
   "metadata": {},
   "outputs": [],
   "source": [
    "x=np.random.randint(2,10,(2,3))\n",
    "y=np.random.randint(2,10,(2,2))"
   ]
  },
  {
   "cell_type": "code",
   "execution_count": 17,
   "id": "3069cc95-d9f5-48b3-bfca-36c709870db0",
   "metadata": {},
   "outputs": [],
   "source": [
    "k=np.zeros_like(x)"
   ]
  },
  {
   "cell_type": "code",
   "execution_count": 18,
   "id": "2c9b20a0-b753-45fe-b2ae-ca756a68be34",
   "metadata": {},
   "outputs": [],
   "source": [
    "k[:,:2]=y"
   ]
  },
  {
   "cell_type": "code",
   "execution_count": 19,
   "id": "2bca9e5c-307d-491c-8e85-49bd5f8cfcdd",
   "metadata": {},
   "outputs": [
    {
     "data": {
      "text/plain": [
       "array([[1., 0., 0.],\n",
       "       [0., 1., 0.],\n",
       "       [0., 0., 1.]])"
      ]
     },
     "execution_count": 19,
     "metadata": {},
     "output_type": "execute_result"
    }
   ],
   "source": [
    "np.eye(3)# it creates 2d array like idenity matrix\n"
   ]
  },
  {
   "cell_type": "code",
   "execution_count": 20,
   "id": "5288f48a-22e9-434f-86d4-242d7b0e4b2b",
   "metadata": {},
   "outputs": [
    {
     "data": {
      "text/plain": [
       "array([[1., 0., 0., 0.],\n",
       "       [0., 1., 0., 0.],\n",
       "       [0., 0., 1., 0.]])"
      ]
     },
     "execution_count": 20,
     "metadata": {},
     "output_type": "execute_result"
    }
   ],
   "source": [
    "np.eye(3,4)#it will print the elements where i=j and rest of thm are 0"
   ]
  },
  {
   "cell_type": "code",
   "execution_count": 21,
   "id": "8ece3532-6957-4c1a-8ea1-4edb5ffa7454",
   "metadata": {},
   "outputs": [
    {
     "data": {
      "text/plain": [
       "array([[1, 0, 0],\n",
       "       [0, 2, 0],\n",
       "       [0, 0, 3]])"
      ]
     },
     "execution_count": 21,
     "metadata": {},
     "output_type": "execute_result"
    }
   ],
   "source": [
    "#numpy.diag it will helpfu while doing algebric functions\n",
    "np.diag([1,2,3])"
   ]
  },
  {
   "cell_type": "code",
   "execution_count": 22,
   "id": "c4fd2e1b-9295-4da7-b59f-cb97830ec193",
   "metadata": {},
   "outputs": [
    {
     "data": {
      "text/plain": [
       "array([[0, 1, 0, 0],\n",
       "       [0, 0, 2, 0],\n",
       "       [0, 0, 0, 3],\n",
       "       [0, 0, 0, 0]])"
      ]
     },
     "execution_count": 22,
     "metadata": {},
     "output_type": "execute_result"
    }
   ],
   "source": [
    "np.diag([1,2,3],1)"
   ]
  },
  {
   "cell_type": "code",
   "execution_count": 23,
   "id": "5d874f0b-7a18-4159-b91d-790438428d79",
   "metadata": {},
   "outputs": [
    {
     "data": {
      "text/plain": [
       "array([1, 4])"
      ]
     },
     "execution_count": 23,
     "metadata": {},
     "output_type": "execute_result"
    }
   ],
   "source": [
    "a=np.array([[1,2],[3,4]])\n",
    "np.diag(a)"
   ]
  },
  {
   "cell_type": "code",
   "execution_count": 24,
   "id": "bbd68317-b144-43c9-9bca-f67f135a4b9a",
   "metadata": {},
   "outputs": [
    {
     "data": {
      "text/plain": [
       "array([[0., 0.],\n",
       "       [0., 0.],\n",
       "       [0., 0.]])"
      ]
     },
     "execution_count": 24,
     "metadata": {},
     "output_type": "execute_result"
    }
   ],
   "source": [
    "np.zeros((3,2))"
   ]
  },
  {
   "cell_type": "code",
   "execution_count": 25,
   "id": "52cee62c-68b3-496a-a232-c0ba20d5f939",
   "metadata": {},
   "outputs": [
    {
     "data": {
      "text/plain": [
       "array([[[0., 0.],\n",
       "        [0., 0.],\n",
       "        [0., 0.]],\n",
       "\n",
       "       [[0., 0.],\n",
       "        [0., 0.],\n",
       "        [0., 0.]]])"
      ]
     },
     "execution_count": 25,
     "metadata": {},
     "output_type": "execute_result"
    }
   ],
   "source": [
    "np.zeros((2,3,2))"
   ]
  },
  {
   "cell_type": "code",
   "execution_count": 26,
   "id": "d5f5e0ec-4024-48ed-b437-a29efdac6498",
   "metadata": {},
   "outputs": [
    {
     "data": {
      "text/plain": [
       "array([[[[0.5488135 , 0.71518937, 0.60276338],\n",
       "         [0.54488318, 0.4236548 , 0.64589411]],\n",
       "\n",
       "        [[0.43758721, 0.891773  , 0.96366276],\n",
       "         [0.38344152, 0.79172504, 0.52889492]]],\n",
       "\n",
       "\n",
       "       [[[0.56804456, 0.92559664, 0.07103606],\n",
       "         [0.0871293 , 0.0202184 , 0.83261985]],\n",
       "\n",
       "        [[0.77815675, 0.87001215, 0.97861834],\n",
       "         [0.79915856, 0.46147936, 0.78052918]]]])"
      ]
     },
     "execution_count": 26,
     "metadata": {},
     "output_type": "execute_result"
    }
   ],
   "source": [
    "np.random.seed(0)\n",
    "b=np.random.rand(2,2,2,3)\n",
    "b\n"
   ]
  },
  {
   "cell_type": "code",
   "execution_count": 27,
   "id": "4af718cd-410f-499a-92d8-4a3cfbdae0a3",
   "metadata": {},
   "outputs": [
    {
     "data": {
      "text/plain": [
       "array([[[[0, 0, 0],\n",
       "         [0, 0, 0],\n",
       "         [0, 0, 0],\n",
       "         [0, 0, 0]],\n",
       "\n",
       "        [[1, 1, 1],\n",
       "         [1, 1, 1],\n",
       "         [1, 1, 1],\n",
       "         [1, 1, 1]]],\n",
       "\n",
       "\n",
       "       [[[0, 0, 0],\n",
       "         [1, 1, 1],\n",
       "         [2, 2, 2],\n",
       "         [3, 3, 3]],\n",
       "\n",
       "        [[0, 0, 0],\n",
       "         [1, 1, 1],\n",
       "         [2, 2, 2],\n",
       "         [3, 3, 3]]],\n",
       "\n",
       "\n",
       "       [[[0, 1, 2],\n",
       "         [0, 1, 2],\n",
       "         [0, 1, 2],\n",
       "         [0, 1, 2]],\n",
       "\n",
       "        [[0, 1, 2],\n",
       "         [0, 1, 2],\n",
       "         [0, 1, 2],\n",
       "         [0, 1, 2]]]])"
      ]
     },
     "execution_count": 27,
     "metadata": {},
     "output_type": "execute_result"
    }
   ],
   "source": [
    "np.indices((2,4,3))"
   ]
  },
  {
   "cell_type": "code",
   "execution_count": 28,
   "id": "5e38129f-dd86-43ca-80ca-eb1a07070cdb",
   "metadata": {},
   "outputs": [],
   "source": [
    "x=np.arange(10)"
   ]
  },
  {
   "cell_type": "code",
   "execution_count": 29,
   "id": "4c86912e-6705-4393-a8ac-ccab8901f12f",
   "metadata": {},
   "outputs": [
    {
     "data": {
      "text/plain": [
       "array([1, 3, 5])"
      ]
     },
     "execution_count": 29,
     "metadata": {},
     "output_type": "execute_result"
    }
   ],
   "source": [
    "#x.shape=(2,5)# now x is 2-dimensional\n",
    "x[1:7:2]"
   ]
  },
  {
   "cell_type": "code",
   "execution_count": 30,
   "id": "84558eb7-28e4-4e13-a4f3-93c5c1f5b779",
   "metadata": {},
   "outputs": [
    {
     "data": {
      "text/plain": [
       "array([1, 2, 3, 4, 5, 6, 7, 8, 9])"
      ]
     },
     "execution_count": 30,
     "metadata": {},
     "output_type": "execute_result"
    }
   ],
   "source": [
    "x[1:]"
   ]
  },
  {
   "cell_type": "code",
   "execution_count": 31,
   "id": "513be963-5ec6-4188-8b4e-49e7be583720",
   "metadata": {},
   "outputs": [],
   "source": [
    "y=np.arange(35).reshape(5,7)"
   ]
  },
  {
   "cell_type": "code",
   "execution_count": 32,
   "id": "d8b229f2-1e39-4625-b4a9-59849a04b45a",
   "metadata": {},
   "outputs": [
    {
     "data": {
      "text/plain": [
       "array([[ 0,  1,  2,  3,  4,  5,  6],\n",
       "       [ 7,  8,  9, 10, 11, 12, 13],\n",
       "       [14, 15, 16, 17, 18, 19, 20],\n",
       "       [21, 22, 23, 24, 25, 26, 27],\n",
       "       [28, 29, 30, 31, 32, 33, 34]])"
      ]
     },
     "execution_count": 32,
     "metadata": {},
     "output_type": "execute_result"
    }
   ],
   "source": [
    "y"
   ]
  },
  {
   "cell_type": "code",
   "execution_count": 33,
   "id": "dd01dc92-2446-4a64-95c6-83c0f6332a74",
   "metadata": {},
   "outputs": [
    {
     "data": {
      "text/plain": [
       "array([[ 7, 10, 13],\n",
       "       [21, 24, 27]])"
      ]
     },
     "execution_count": 33,
     "metadata": {},
     "output_type": "execute_result"
    }
   ],
   "source": [
    "y[1:5:2,::3]"
   ]
  },
  {
   "cell_type": "code",
   "execution_count": 34,
   "id": "acd140b8-492d-47a4-82c1-d3a87d7018dc",
   "metadata": {},
   "outputs": [],
   "source": [
    "x=np.arange(10,1,-1)"
   ]
  },
  {
   "cell_type": "code",
   "execution_count": 35,
   "id": "22546f5b-7e3b-428a-9dea-207fcbc9cad7",
   "metadata": {},
   "outputs": [
    {
     "data": {
      "text/plain": [
       "array([10,  9,  8,  7,  6,  5,  4,  3,  2])"
      ]
     },
     "execution_count": 35,
     "metadata": {},
     "output_type": "execute_result"
    }
   ],
   "source": [
    "x"
   ]
  },
  {
   "cell_type": "code",
   "execution_count": 36,
   "id": "22efb286-d8fd-4a10-b6ff-f8c9e416d4d5",
   "metadata": {},
   "outputs": [
    {
     "data": {
      "text/plain": [
       "array([7, 7, 9, 2])"
      ]
     },
     "execution_count": 36,
     "metadata": {},
     "output_type": "execute_result"
    }
   ],
   "source": [
    "x[np.array([3,3,1,8])]"
   ]
  },
  {
   "cell_type": "code",
   "execution_count": 37,
   "id": "5b93dfd4-c9f4-46ed-892d-da6573fbe6c6",
   "metadata": {},
   "outputs": [
    {
     "data": {
      "text/plain": [
       "array([[9, 9],\n",
       "       [7, 7]])"
      ]
     },
     "execution_count": 37,
     "metadata": {},
     "output_type": "execute_result"
    }
   ],
   "source": [
    "x[np.array([[1,1],[3,3]])]"
   ]
  },
  {
   "cell_type": "code",
   "execution_count": 38,
   "id": "8f141f9a-dac7-48d1-8faa-c93397e7ca01",
   "metadata": {},
   "outputs": [],
   "source": [
    "y=np.arange(35).reshape(5,7)"
   ]
  },
  {
   "cell_type": "code",
   "execution_count": 39,
   "id": "e6a9180c-45f0-44c8-9a7e-0b4a526e3ca2",
   "metadata": {},
   "outputs": [
    {
     "data": {
      "text/plain": [
       "array([[ 0,  1,  2,  3,  4,  5,  6],\n",
       "       [ 7,  8,  9, 10, 11, 12, 13],\n",
       "       [14, 15, 16, 17, 18, 19, 20],\n",
       "       [21, 22, 23, 24, 25, 26, 27],\n",
       "       [28, 29, 30, 31, 32, 33, 34]])"
      ]
     },
     "execution_count": 39,
     "metadata": {},
     "output_type": "execute_result"
    }
   ],
   "source": [
    "y"
   ]
  },
  {
   "cell_type": "code",
   "execution_count": 40,
   "id": "e81d909b-9db5-4cbf-98af-312dc1f0c475",
   "metadata": {},
   "outputs": [
    {
     "data": {
      "text/plain": [
       "array([[ 0,  1,  2,  3,  4,  5,  6],\n",
       "       [14, 15, 16, 17, 18, 19, 20],\n",
       "       [28, 29, 30, 31, 32, 33, 34]])"
      ]
     },
     "execution_count": 40,
     "metadata": {},
     "output_type": "execute_result"
    }
   ],
   "source": [
    "y[np.array([0,2,4])]"
   ]
  },
  {
   "cell_type": "code",
   "execution_count": 41,
   "id": "6bb79a87-c6bd-4cee-a5fc-7ce4576860d3",
   "metadata": {},
   "outputs": [
    {
     "data": {
      "text/plain": [
       "array([21, 22, 23, 24, 25, 26, 27, 28, 29, 30, 31, 32, 33, 34])"
      ]
     },
     "execution_count": 41,
     "metadata": {},
     "output_type": "execute_result"
    }
   ],
   "source": [
    "#boolean or mask index arrays\n",
    "b=y>20\n",
    "y[b]"
   ]
  },
  {
   "cell_type": "code",
   "execution_count": 42,
   "id": "0a082299-972b-4e82-91bc-a64007542f37",
   "metadata": {},
   "outputs": [
    {
     "data": {
      "text/plain": [
       "array([False, False, False,  True,  True])"
      ]
     },
     "execution_count": 42,
     "metadata": {},
     "output_type": "execute_result"
    }
   ],
   "source": [
    "b[:,5]#it will go by row size and it will return the true or false value\n"
   ]
  },
  {
   "cell_type": "code",
   "execution_count": 43,
   "id": "e259caf4-ea27-4375-a26e-17c919737921",
   "metadata": {},
   "outputs": [
    {
     "data": {
      "text/plain": [
       "array([[21, 22, 23, 24, 25, 26, 27],\n",
       "       [28, 29, 30, 31, 32, 33, 34]])"
      ]
     },
     "execution_count": 43,
     "metadata": {},
     "output_type": "execute_result"
    }
   ],
   "source": [
    "y[b[:,5]]"
   ]
  },
  {
   "cell_type": "code",
   "execution_count": 44,
   "id": "6aa06e4d-47fb-4a1c-b5cf-bc9e4c116129",
   "metadata": {},
   "outputs": [],
   "source": [
    "x=np.arange(30).reshape(2,3,5)"
   ]
  },
  {
   "cell_type": "code",
   "execution_count": 45,
   "id": "6d039627-0d4e-482a-9f18-a545f170cd13",
   "metadata": {},
   "outputs": [
    {
     "data": {
      "text/plain": [
       "array([[[ 0,  1,  2,  3,  4],\n",
       "        [ 5,  6,  7,  8,  9],\n",
       "        [10, 11, 12, 13, 14]],\n",
       "\n",
       "       [[15, 16, 17, 18, 19],\n",
       "        [20, 21, 22, 23, 24],\n",
       "        [25, 26, 27, 28, 29]]])"
      ]
     },
     "execution_count": 45,
     "metadata": {},
     "output_type": "execute_result"
    }
   ],
   "source": [
    "x"
   ]
  },
  {
   "cell_type": "code",
   "execution_count": 46,
   "id": "343d22f9-f8e0-4a14-a523-75d7ca3f7479",
   "metadata": {},
   "outputs": [
    {
     "data": {
      "text/plain": [
       "array([[ 1,  2],\n",
       "       [15, 16],\n",
       "       [29, 30]])"
      ]
     },
     "execution_count": 46,
     "metadata": {},
     "output_type": "execute_result"
    }
   ],
   "source": [
    "y[np.array([0,2,4]),1:3]"
   ]
  },
  {
   "cell_type": "code",
   "execution_count": 47,
   "id": "e85f70d8-e967-4fe8-ab2b-3e0a568bdf49",
   "metadata": {},
   "outputs": [
    {
     "data": {
      "text/plain": [
       "array([[ 1,  2],\n",
       "       [15, 16],\n",
       "       [29, 30]])"
      ]
     },
     "execution_count": 47,
     "metadata": {},
     "output_type": "execute_result"
    }
   ],
   "source": [
    "y[:,1:3][np.array([0,2,4]),:]"
   ]
  },
  {
   "cell_type": "code",
   "execution_count": 48,
   "id": "91fbffd9-b3d5-4d87-8292-560019d21dbb",
   "metadata": {},
   "outputs": [],
   "source": [
    "b=y>20# it will give the greatest elements in the y"
   ]
  },
  {
   "cell_type": "code",
   "execution_count": 49,
   "id": "3b04f0df-2748-4e38-bdd4-871952891022",
   "metadata": {},
   "outputs": [
    {
     "data": {
      "text/plain": [
       "array([[False, False, False, False, False, False, False],\n",
       "       [False, False, False, False, False, False, False],\n",
       "       [False, False, False, False, False, False, False],\n",
       "       [ True,  True,  True,  True,  True,  True,  True],\n",
       "       [ True,  True,  True,  True,  True,  True,  True]])"
      ]
     },
     "execution_count": 49,
     "metadata": {},
     "output_type": "execute_result"
    }
   ],
   "source": [
    "b"
   ]
  },
  {
   "cell_type": "code",
   "execution_count": 50,
   "id": "b0dcb4b4-5287-4c4d-93d2-363398189407",
   "metadata": {},
   "outputs": [
    {
     "data": {
      "text/plain": [
       "array([[ 0,  1,  2,  3,  4,  5,  6],\n",
       "       [ 7,  8,  9, 10, 11, 12, 13],\n",
       "       [14, 15, 16, 17, 18, 19, 20],\n",
       "       [21, 22, 23, 24, 25, 26, 27],\n",
       "       [28, 29, 30, 31, 32, 33, 34]])"
      ]
     },
     "execution_count": 50,
     "metadata": {},
     "output_type": "execute_result"
    }
   ],
   "source": [
    "y"
   ]
  },
  {
   "cell_type": "code",
   "execution_count": 51,
   "id": "c9d9a240-9525-43fc-b182-83d69db38422",
   "metadata": {},
   "outputs": [
    {
     "data": {
      "text/plain": [
       "(5, 7)"
      ]
     },
     "execution_count": 51,
     "metadata": {},
     "output_type": "execute_result"
    }
   ],
   "source": [
    "y.shape # it will give the shape of the y\n"
   ]
  },
  {
   "cell_type": "code",
   "execution_count": 52,
   "id": "f8f5328c-16ee-4d84-b4fb-a549b1de3a35",
   "metadata": {},
   "outputs": [
    {
     "data": {
      "text/plain": [
       "(5, 1, 7)"
      ]
     },
     "execution_count": 52,
     "metadata": {},
     "output_type": "execute_result"
    }
   ],
   "source": [
    "y[:,np.newaxis,:].shape"
   ]
  },
  {
   "cell_type": "code",
   "execution_count": 53,
   "id": "dca61af9-8108-459e-8797-96c05d48ebb7",
   "metadata": {},
   "outputs": [
    {
     "data": {
      "text/plain": [
       "(5, 7)"
      ]
     },
     "execution_count": 53,
     "metadata": {},
     "output_type": "execute_result"
    }
   ],
   "source": [
    "y.shape"
   ]
  },
  {
   "cell_type": "code",
   "execution_count": 54,
   "id": "c084fbe8-9cd8-401c-b8a1-8e040cb4bb57",
   "metadata": {},
   "outputs": [],
   "source": [
    "# adding new axis to the element\n",
    "x=np.arange(5)"
   ]
  },
  {
   "cell_type": "code",
   "execution_count": 55,
   "id": "ed5ceb8a-2011-4f52-acbe-0d4409b32e7a",
   "metadata": {},
   "outputs": [
    {
     "data": {
      "text/plain": [
       "array([[0, 1, 2, 3, 4],\n",
       "       [1, 2, 3, 4, 5],\n",
       "       [2, 3, 4, 5, 6],\n",
       "       [3, 4, 5, 6, 7],\n",
       "       [4, 5, 6, 7, 8]])"
      ]
     },
     "execution_count": 55,
     "metadata": {},
     "output_type": "execute_result"
    }
   ],
   "source": [
    "x[:,np.newaxis]+x[np.newaxis,:]"
   ]
  },
  {
   "cell_type": "code",
   "execution_count": 56,
   "id": "52b373ab-9159-4db0-851c-fd5cb67504d2",
   "metadata": {},
   "outputs": [],
   "source": [
    "z=np.arange(81).reshape(3,3,3,3)"
   ]
  },
  {
   "cell_type": "code",
   "execution_count": 57,
   "id": "1d4ea8fc-ed49-4e26-9329-626df3a95bfd",
   "metadata": {},
   "outputs": [
    {
     "data": {
      "text/plain": [
       "array([[[[ 0,  1,  2],\n",
       "         [ 3,  4,  5],\n",
       "         [ 6,  7,  8]],\n",
       "\n",
       "        [[ 9, 10, 11],\n",
       "         [12, 13, 14],\n",
       "         [15, 16, 17]],\n",
       "\n",
       "        [[18, 19, 20],\n",
       "         [21, 22, 23],\n",
       "         [24, 25, 26]]],\n",
       "\n",
       "\n",
       "       [[[27, 28, 29],\n",
       "         [30, 31, 32],\n",
       "         [33, 34, 35]],\n",
       "\n",
       "        [[36, 37, 38],\n",
       "         [39, 40, 41],\n",
       "         [42, 43, 44]],\n",
       "\n",
       "        [[45, 46, 47],\n",
       "         [48, 49, 50],\n",
       "         [51, 52, 53]]],\n",
       "\n",
       "\n",
       "       [[[54, 55, 56],\n",
       "         [57, 58, 59],\n",
       "         [60, 61, 62]],\n",
       "\n",
       "        [[63, 64, 65],\n",
       "         [66, 67, 68],\n",
       "         [69, 70, 71]],\n",
       "\n",
       "        [[72, 73, 74],\n",
       "         [75, 76, 77],\n",
       "         [78, 79, 80]]]])"
      ]
     },
     "execution_count": 57,
     "metadata": {},
     "output_type": "execute_result"
    }
   ],
   "source": [
    "z"
   ]
  },
  {
   "cell_type": "code",
   "execution_count": 58,
   "id": "2e994bf5-ac07-41aa-9050-fd82e0da1c69",
   "metadata": {},
   "outputs": [
    {
     "data": {
      "text/plain": [
       "array([[28, 31, 34],\n",
       "       [37, 40, 43],\n",
       "       [46, 49, 52]])"
      ]
     },
     "execution_count": 58,
     "metadata": {},
     "output_type": "execute_result"
    }
   ],
   "source": [
    " z[1,...,1]"
   ]
  },
  {
   "cell_type": "code",
   "execution_count": 59,
   "id": "eff39670-69d5-40f8-8309-53757bc99374",
   "metadata": {},
   "outputs": [
    {
     "data": {
      "text/plain": [
       "array([[54, 57, 60],\n",
       "       [63, 66, 69],\n",
       "       [72, 75, 78]])"
      ]
     },
     "execution_count": 59,
     "metadata": {},
     "output_type": "execute_result"
    }
   ],
   "source": [
    "z[2,:,:,0]# it will covert the columns into the rows .."
   ]
  },
  {
   "cell_type": "code",
   "execution_count": 60,
   "id": "682bced9-35fa-493a-a3ff-309232206b78",
   "metadata": {},
   "outputs": [],
   "source": [
    "#assinging values to the index arrays\n",
    "x=np.arange(10)"
   ]
  },
  {
   "cell_type": "code",
   "execution_count": 61,
   "id": "a1b4a147-4754-4116-bb3c-e00a7f25dd14",
   "metadata": {},
   "outputs": [
    {
     "data": {
      "text/plain": [
       "array([0, 1, 2, 3, 4, 5, 6, 7, 8, 9])"
      ]
     },
     "execution_count": 61,
     "metadata": {},
     "output_type": "execute_result"
    }
   ],
   "source": [
    "x"
   ]
  },
  {
   "cell_type": "code",
   "execution_count": 62,
   "id": "8d2b6f89-292d-498d-8dd8-2f3f3f0c7c1f",
   "metadata": {},
   "outputs": [],
   "source": [
    "x[2:7]=1#it will convert the all index values into the 1's"
   ]
  },
  {
   "cell_type": "code",
   "execution_count": 63,
   "id": "2e59150f-9290-4c4f-ab29-681f24163adf",
   "metadata": {},
   "outputs": [
    {
     "data": {
      "text/plain": [
       "array([0, 1, 1, 1, 1, 1, 1, 7, 8, 9])"
      ]
     },
     "execution_count": 63,
     "metadata": {},
     "output_type": "execute_result"
    }
   ],
   "source": [
    "x"
   ]
  },
  {
   "cell_type": "code",
   "execution_count": 64,
   "id": "4bd6b37c-6a0d-4cb6-b34f-47aafda481f2",
   "metadata": {},
   "outputs": [],
   "source": [
    "x[2:7]=np.arange(5)"
   ]
  },
  {
   "cell_type": "code",
   "execution_count": 65,
   "id": "85dd4577-1439-4bd4-b315-b490acc991c5",
   "metadata": {},
   "outputs": [
    {
     "data": {
      "text/plain": [
       "array([0, 1, 0, 1, 2, 3, 4, 7, 8, 9])"
      ]
     },
     "execution_count": 65,
     "metadata": {},
     "output_type": "execute_result"
    }
   ],
   "source": [
    "x"
   ]
  },
  {
   "cell_type": "code",
   "execution_count": 66,
   "id": "7ba7c9dc-157b-4d69-bbd3-9a7c2533e297",
   "metadata": {},
   "outputs": [],
   "source": [
    "x[1]=1.2"
   ]
  },
  {
   "cell_type": "code",
   "execution_count": 67,
   "id": "519b2dfb-aa94-4d98-864c-1df7d0a09f57",
   "metadata": {},
   "outputs": [
    {
     "data": {
      "text/plain": [
       "array([0, 1, 0, 1, 2, 3, 4, 7, 8, 9])"
      ]
     },
     "execution_count": 67,
     "metadata": {},
     "output_type": "execute_result"
    }
   ],
   "source": [
    "x"
   ]
  },
  {
   "cell_type": "code",
   "execution_count": 68,
   "id": "6a9bd1f0-0db8-4164-8e46-2ab858cccf0e",
   "metadata": {},
   "outputs": [],
   "source": [
    "x=np.arange(0,50,10)"
   ]
  },
  {
   "cell_type": "code",
   "execution_count": 69,
   "id": "d35b3379-2a15-4773-b020-5c718c1dc693",
   "metadata": {},
   "outputs": [],
   "source": [
    "x[np.array([1, 0, 3, 0])] += 1#it will go through the indexes"
   ]
  },
  {
   "cell_type": "code",
   "execution_count": 70,
   "id": "06e090f7-cbf7-4fa6-9d7a-3c0b90ff11a4",
   "metadata": {},
   "outputs": [
    {
     "data": {
      "text/plain": [
       "array([ 1, 11, 20, 31, 40])"
      ]
     },
     "execution_count": 70,
     "metadata": {},
     "output_type": "execute_result"
    }
   ],
   "source": [
    "x"
   ]
  },
  {
   "cell_type": "code",
   "execution_count": 71,
   "id": "a405d1a9-3355-4a1e-96f0-9e9088270b7e",
   "metadata": {},
   "outputs": [],
   "source": [
    "indices=(1,1,1,1)"
   ]
  },
  {
   "cell_type": "raw",
   "id": "a27b3c17-6a0c-443e-9eed-96c46303a2b3",
   "metadata": {},
   "source": [
    "z"
   ]
  },
  {
   "cell_type": "code",
   "execution_count": 72,
   "id": "0b19dba5-cb13-49ab-a52d-5abf31694f90",
   "metadata": {},
   "outputs": [
    {
     "data": {
      "text/plain": [
       "40"
      ]
     },
     "execution_count": 72,
     "metadata": {},
     "output_type": "execute_result"
    }
   ],
   "source": [
    "z[indices]"
   ]
  },
  {
   "cell_type": "markdown",
   "id": "ee7e8ae1-87c8-4d21-a155-65eb9709e6bf",
   "metadata": {},
   "source": [
    "#numpy i/o \n",
    "\n"
   ]
  },
  {
   "cell_type": "code",
   "execution_count": 73,
   "id": "166def7b-1537-432a-9667-f03f254b6266",
   "metadata": {},
   "outputs": [],
   "source": [
    "data=u\"1,2,3\\n4,5,6\"\n",
    "#spliting the lines to columns\n",
    "from io import StringIO"
   ]
  },
  {
   "cell_type": "code",
   "execution_count": 74,
   "id": "04d8b190-4c9e-40f1-86da-2aecb8f3db26",
   "metadata": {},
   "outputs": [
    {
     "data": {
      "text/plain": [
       "array([[1., 2., 3.],\n",
       "       [4., 5., 6.]])"
      ]
     },
     "execution_count": 74,
     "metadata": {},
     "output_type": "execute_result"
    }
   ],
   "source": [
    "np.genfromtxt(StringIO(data), delimiter=\",\")"
   ]
  },
  {
   "cell_type": "code",
   "execution_count": 75,
   "id": "a22efadb-d9f6-4d2a-b529-95c626dd887b",
   "metadata": {},
   "outputs": [],
   "source": [
    "data=u'\\n'.join(str(i) for i in range(10))"
   ]
  },
  {
   "cell_type": "code",
   "execution_count": 76,
   "id": "eccfea56-a9b4-4f14-9a2e-a258f24ef808",
   "metadata": {},
   "outputs": [
    {
     "data": {
      "text/plain": [
       "array([0., 1., 2., 3., 4., 5., 6., 7., 8., 9.])"
      ]
     },
     "execution_count": 76,
     "metadata": {},
     "output_type": "execute_result"
    }
   ],
   "source": [
    " np.genfromtxt(StringIO(data),)"
   ]
  },
  {
   "cell_type": "code",
   "execution_count": 77,
   "id": "cb22d715-d7b2-416e-b51f-5e82a8cc232c",
   "metadata": {},
   "outputs": [
    {
     "data": {
      "text/plain": [
       "array(4.)"
      ]
     },
     "execution_count": 77,
     "metadata": {},
     "output_type": "execute_result"
    }
   ],
   "source": [
    "np.genfromtxt(StringIO(data),skip_header=4,skip_footer=5) #skip header it will skip the header and skip footer it will skip the header"
   ]
  },
  {
   "cell_type": "code",
   "execution_count": 78,
   "id": "43b7bb80-3f1d-4bdd-84a8-0b2d9dd777f9",
   "metadata": {},
   "outputs": [
    {
     "data": {
      "text/plain": [
       "array([[1., 3.],\n",
       "       [4., 6.]])"
      ]
     },
     "execution_count": 78,
     "metadata": {},
     "output_type": "execute_result"
    }
   ],
   "source": [
    "data=u\"1,2,3\\n4,5,6\"\n",
    "np.genfromtxt(StringIO(data),delimiter=\",\",usecols=(0,-1))#usecols=(0,-1))"
   ]
  },
  {
   "cell_type": "code",
   "execution_count": 79,
   "id": "16920436-ee71-4fea-8e52-9ba179205104",
   "metadata": {},
   "outputs": [
    {
     "data": {
      "text/plain": [
       "array([[1., 2., 3.],\n",
       "       [4., 5., 6.]])"
      ]
     },
     "execution_count": 79,
     "metadata": {},
     "output_type": "execute_result"
    }
   ],
   "source": [
    "np.genfromtxt(StringIO(data),delimiter=\",\")"
   ]
  },
  {
   "cell_type": "code",
   "execution_count": 80,
   "id": "158c11e4-b545-4be6-8277-2559285c008c",
   "metadata": {},
   "outputs": [
    {
     "data": {
      "text/plain": [
       "array([(1, 2, 3), (4, 5, 6)],\n",
       "      dtype=[('a', '<i8'), ('b', '<i8'), ('c', '<i8')])"
      ]
     },
     "execution_count": 80,
     "metadata": {},
     "output_type": "execute_result"
    }
   ],
   "source": [
    "data=StringIO(u\"1 2 3\\n 4 5 6\")\n",
    "np.genfromtxt(data, dtype=[(_, int) for _ in \"abc\"])\n",
    "\n",
    "\n",
    "\n"
   ]
  },
  {
   "cell_type": "code",
   "execution_count": 81,
   "id": "596eb910-04be-40f9-ad1d-98efbf4fda04",
   "metadata": {},
   "outputs": [
    {
     "data": {
      "text/plain": [
       "array([(1., 2., 3.), (4., 5., 6.)],\n",
       "      dtype=[('A', '<f8'), ('B', '<f8'), ('C', '<f8')])"
      ]
     },
     "execution_count": 81,
     "metadata": {},
     "output_type": "execute_result"
    }
   ],
   "source": [
    "data=StringIO(u\"1 2 3\\n 4 5 6\")\n",
    "np.genfromtxt(data,names=\"A,B,C\")"
   ]
  },
  {
   "cell_type": "code",
   "execution_count": 82,
   "id": "8395a59c-479f-4da3-b703-98a0aaf6337e",
   "metadata": {},
   "outputs": [
    {
     "data": {
      "text/plain": [
       "array([(1, 2., 3), (4, 5., 6)],\n",
       "      dtype=[('A', '<i8'), ('B', '<f8'), ('C', '<i8')])"
      ]
     },
     "execution_count": 82,
     "metadata": {},
     "output_type": "execute_result"
    }
   ],
   "source": [
    "data=StringIO('1 2 3 \\n 4 5 6')\n",
    "ndtype=[('a',int),('b',float),('c',int)]\n",
    "names=[\"A\",\"B\",\"C\"]\n",
    "np.genfromtxt(data,names=names,dtype=ndtype)"
   ]
  },
  {
   "cell_type": "code",
   "execution_count": 83,
   "id": "04aca029-d7a5-416e-9843-5ea474e0d591",
   "metadata": {},
   "outputs": [
    {
     "data": {
      "text/plain": [
       "array([(1, 2., 3), (4, 5., 6)],\n",
       "      dtype=[('f0', '<i8'), ('f1', '<f8'), ('f2', '<i8')])"
      ]
     },
     "execution_count": 83,
     "metadata": {},
     "output_type": "execute_result"
    }
   ],
   "source": [
    "#default argument\n",
    "data=StringIO('1 2 3\\n 4 5 6')\n",
    "np.genfromtxt(data,dtype=(int,float,int))\n"
   ]
  },
  {
   "cell_type": "code",
   "execution_count": 84,
   "id": "3719bcd9-9de1-45db-b3a3-c8fcf6a27040",
   "metadata": {},
   "outputs": [],
   "source": [
    "import numpy as np"
   ]
  },
  {
   "cell_type": "code",
   "execution_count": 85,
   "id": "d251a807-8a11-4508-891f-fa734bfad56b",
   "metadata": {},
   "outputs": [],
   "source": [
    "x=np.float32(1.0)"
   ]
  },
  {
   "cell_type": "code",
   "execution_count": 86,
   "id": "8c9dce14-b68e-4953-bd8f-d552e4f9d3cd",
   "metadata": {},
   "outputs": [
    {
     "data": {
      "text/plain": [
       "1.0"
      ]
     },
     "execution_count": 86,
     "metadata": {},
     "output_type": "execute_result"
    }
   ],
   "source": [
    "x"
   ]
  },
  {
   "cell_type": "code",
   "execution_count": 87,
   "id": "be642b7b-5a39-465f-a7b0-b907d5b6441d",
   "metadata": {},
   "outputs": [],
   "source": [
    "y=np.int_([1,2,4])"
   ]
  },
  {
   "cell_type": "code",
   "execution_count": 88,
   "id": "496b047b-1858-4781-887d-3da02f0d9fc6",
   "metadata": {},
   "outputs": [
    {
     "data": {
      "text/plain": [
       "array([1, 2, 4])"
      ]
     },
     "execution_count": 88,
     "metadata": {},
     "output_type": "execute_result"
    }
   ],
   "source": [
    "y"
   ]
  },
  {
   "cell_type": "code",
   "execution_count": 89,
   "id": "cc6daf88-407a-480d-a803-18d624f7a0bc",
   "metadata": {},
   "outputs": [],
   "source": [
    "z=np.arange(3,dtype=np.uint8)"
   ]
  },
  {
   "cell_type": "code",
   "execution_count": 90,
   "id": "2e5b88f3-3cfe-4278-8b84-7f76c58eb898",
   "metadata": {},
   "outputs": [
    {
     "data": {
      "text/plain": [
       "array([0, 1, 2], dtype=uint8)"
      ]
     },
     "execution_count": 90,
     "metadata": {},
     "output_type": "execute_result"
    }
   ],
   "source": [
    "z"
   ]
  },
  {
   "cell_type": "code",
   "execution_count": 91,
   "id": "a6c533fc-0a93-4283-9a4d-2b94b1ebee41",
   "metadata": {},
   "outputs": [],
   "source": [
    "a=np.array([1.0,2.0,3.0])\n",
    "b=np.array([2.0,2.0,2.0])"
   ]
  },
  {
   "cell_type": "code",
   "execution_count": 92,
   "id": "7269aea0-1ab0-46c2-be4e-fd3141a349e5",
   "metadata": {},
   "outputs": [
    {
     "data": {
      "text/plain": [
       "array([2., 4., 6.])"
      ]
     },
     "execution_count": 92,
     "metadata": {},
     "output_type": "execute_result"
    }
   ],
   "source": [
    "a*b"
   ]
  },
  {
   "cell_type": "code",
   "execution_count": 93,
   "id": "4590ce8e-eeeb-44a0-9b2e-426f47a07ed1",
   "metadata": {},
   "outputs": [],
   "source": [
    "b=[2.0]"
   ]
  },
  {
   "cell_type": "code",
   "execution_count": 94,
   "id": "bc0e6a47-6506-435a-b40d-c2e651ec07cc",
   "metadata": {},
   "outputs": [
    {
     "data": {
      "text/plain": [
       "array([2., 4., 6.])"
      ]
     },
     "execution_count": 94,
     "metadata": {},
     "output_type": "execute_result"
    }
   ],
   "source": [
    "a*b"
   ]
  },
  {
   "cell_type": "code",
   "execution_count": 95,
   "id": "f6c0b899-148b-4955-aa21-204eaf4cb87f",
   "metadata": {},
   "outputs": [],
   "source": [
    "x=np.arange(4)"
   ]
  },
  {
   "cell_type": "code",
   "execution_count": 97,
   "id": "efd95906-7cb8-42d0-a4c3-e5da9d85ce53",
   "metadata": {},
   "outputs": [],
   "source": [
    "xx=x.reshape(4,1)"
   ]
  },
  {
   "cell_type": "code",
   "execution_count": 98,
   "id": "9fff92e7-403b-4f6b-a59e-d997f092c969",
   "metadata": {},
   "outputs": [
    {
     "data": {
      "text/plain": [
       "array([[0],\n",
       "       [1],\n",
       "       [2],\n",
       "       [3]])"
      ]
     },
     "execution_count": 98,
     "metadata": {},
     "output_type": "execute_result"
    }
   ],
   "source": [
    "xx"
   ]
  },
  {
   "cell_type": "code",
   "execution_count": 99,
   "id": "fcb71375-a463-45da-9976-d4e2178613dd",
   "metadata": {},
   "outputs": [],
   "source": [
    "y=np.ones(5)"
   ]
  },
  {
   "cell_type": "code",
   "execution_count": 102,
   "id": "7ad51572-bd5b-4609-9502-f93ae68bb714",
   "metadata": {},
   "outputs": [],
   "source": [
    "z=np.ones((3,4))"
   ]
  },
  {
   "cell_type": "code",
   "execution_count": 120,
   "id": "ceebd5d5-8abd-49fc-afe8-8f5ebc6ea0bb",
   "metadata": {},
   "outputs": [
    {
     "ename": "ValueError",
     "evalue": "operands could not be broadcast together with shapes (4,) (5,) ",
     "output_type": "error",
     "traceback": [
      "\u001b[0;31m---------------------------------------------------------------------------\u001b[0m",
      "\u001b[0;31mValueError\u001b[0m                                Traceback (most recent call last)",
      "\u001b[0;32m<ipython-input-120-f244d4d27c6c>\u001b[0m in \u001b[0;36m<module>\u001b[0;34m\u001b[0m\n\u001b[0;32m----> 1\u001b[0;31m \u001b[0mx\u001b[0m\u001b[0;34m+\u001b[0m\u001b[0my\u001b[0m\u001b[0;31m#mismatch of the shapes in the x+y\u001b[0m\u001b[0;34m\u001b[0m\u001b[0;34m\u001b[0m\u001b[0m\n\u001b[0m",
      "\u001b[0;31mValueError\u001b[0m: operands could not be broadcast together with shapes (4,) (5,) "
     ]
    }
   ],
   "source": [
    "x+y#mismatch of the shapes in the x+y\n"
   ]
  },
  {
   "cell_type": "code",
   "execution_count": 121,
   "id": "647c38f3-35e0-4e91-9360-ab90a6b45e7a",
   "metadata": {},
   "outputs": [
    {
     "data": {
      "text/plain": [
       "array([[1., 1., 1., 1., 1.],\n",
       "       [2., 2., 2., 2., 2.],\n",
       "       [3., 3., 3., 3., 3.],\n",
       "       [4., 4., 4., 4., 4.]])"
      ]
     },
     "execution_count": 121,
     "metadata": {},
     "output_type": "execute_result"
    }
   ],
   "source": [
    "xx+y"
   ]
  },
  {
   "cell_type": "code",
   "execution_count": 108,
   "id": "3d080bb7-f928-4279-a1e6-0d1dc68cc624",
   "metadata": {},
   "outputs": [
    {
     "data": {
      "text/plain": [
       "(4, 1)"
      ]
     },
     "execution_count": 108,
     "metadata": {},
     "output_type": "execute_result"
    }
   ],
   "source": [
    "xx.shape"
   ]
  },
  {
   "cell_type": "code",
   "execution_count": 109,
   "id": "b2165fe7-a17f-45ec-87b8-7626809343ba",
   "metadata": {},
   "outputs": [
    {
     "data": {
      "text/plain": [
       "(5,)"
      ]
     },
     "execution_count": 109,
     "metadata": {},
     "output_type": "execute_result"
    }
   ],
   "source": [
    "y.shape"
   ]
  },
  {
   "cell_type": "code",
   "execution_count": 110,
   "id": "094924f5-9d3f-499a-ac3a-f963f05ee704",
   "metadata": {},
   "outputs": [
    {
     "data": {
      "text/plain": [
       "array([1., 1., 1., 1., 1.])"
      ]
     },
     "execution_count": 110,
     "metadata": {},
     "output_type": "execute_result"
    }
   ],
   "source": [
    "y"
   ]
  },
  {
   "cell_type": "code",
   "execution_count": 111,
   "id": "753cf700-61af-417b-a629-90c678504135",
   "metadata": {},
   "outputs": [
    {
     "data": {
      "text/plain": [
       "array([[0],\n",
       "       [1],\n",
       "       [2],\n",
       "       [3]])"
      ]
     },
     "execution_count": 111,
     "metadata": {},
     "output_type": "execute_result"
    }
   ],
   "source": [
    "xx"
   ]
  },
  {
   "cell_type": "code",
   "execution_count": 112,
   "id": "d114ff4d-cb96-4f32-b8f8-a394970aa224",
   "metadata": {},
   "outputs": [
    {
     "data": {
      "text/plain": [
       "(3, 4)"
      ]
     },
     "execution_count": 112,
     "metadata": {},
     "output_type": "execute_result"
    }
   ],
   "source": [
    "z.shape"
   ]
  },
  {
   "cell_type": "code",
   "execution_count": 113,
   "id": "f0ab48d8-5e13-4e8d-847c-5493de4b9e4c",
   "metadata": {},
   "outputs": [
    {
     "data": {
      "text/plain": [
       "array([[1., 2., 3., 4.],\n",
       "       [1., 2., 3., 4.],\n",
       "       [1., 2., 3., 4.]])"
      ]
     },
     "execution_count": 113,
     "metadata": {},
     "output_type": "execute_result"
    }
   ],
   "source": [
    "x+z"
   ]
  },
  {
   "cell_type": "code",
   "execution_count": 115,
   "id": "3a2b9d2b-abec-4d37-8bd1-74253cad84a5",
   "metadata": {},
   "outputs": [
    {
     "data": {
      "text/plain": [
       "(3, 4)"
      ]
     },
     "execution_count": 115,
     "metadata": {},
     "output_type": "execute_result"
    }
   ],
   "source": [
    "(x+z).shape"
   ]
  },
  {
   "cell_type": "code",
   "execution_count": 119,
   "id": "9a376a78-e7b8-454e-9f3c-861e2b04d4d8",
   "metadata": {},
   "outputs": [
    {
     "data": {
      "text/plain": [
       "array([[ 1.,  2.,  3.],\n",
       "       [11., 12., 13.],\n",
       "       [21., 22., 23.],\n",
       "       [31., 32., 33.]])"
      ]
     },
     "execution_count": 119,
     "metadata": {},
     "output_type": "execute_result"
    }
   ],
   "source": [
    "a=np.array([0.0,10.0,20.0,30.0])\n",
    "b=np.array([1.0,2.0,3.0])\n",
    "a[:,np.newaxis]+b#here intially 4*1 axis is there after adding the 3rd axis it converts into 4*3\n"
   ]
  },
  {
   "cell_type": "code",
   "execution_count": null,
   "id": "96c99d5f-ff03-47da-8373-0c29b57c09e5",
   "metadata": {},
   "outputs": [],
   "source": []
  },
  {
   "cell_type": "code",
   "execution_count": null,
   "id": "9814516f-3f6d-422a-8b9c-aba4bf6449cc",
   "metadata": {},
   "outputs": [],
   "source": []
  },
  {
   "cell_type": "code",
   "execution_count": null,
   "id": "a2cae04b-7b18-4b88-aabe-dae27778b1ff",
   "metadata": {},
   "outputs": [],
   "source": []
  },
  {
   "cell_type": "code",
   "execution_count": null,
   "id": "d0ee6448-9f7b-4801-ba3c-8c8829f6bd5c",
   "metadata": {},
   "outputs": [],
   "source": []
  },
  {
   "cell_type": "code",
   "execution_count": null,
   "id": "c1bd33de-9546-4abf-8cd8-d01154cfee27",
   "metadata": {},
   "outputs": [],
   "source": []
  }
 ],
 "metadata": {
  "kernelspec": {
   "display_name": "Python 3",
   "language": "python",
   "name": "python3"
  },
  "language_info": {
   "codemirror_mode": {
    "name": "ipython",
    "version": 3
   },
   "file_extension": ".py",
   "mimetype": "text/x-python",
   "name": "python",
   "nbconvert_exporter": "python",
   "pygments_lexer": "ipython3",
   "version": "3.8.8"
  }
 },
 "nbformat": 4,
 "nbformat_minor": 5
}
