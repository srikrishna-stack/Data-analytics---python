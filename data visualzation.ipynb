{
 "cells": [
  {
   "cell_type": "code",
   "execution_count": 1,
   "id": "f59d3602-e61d-4f2a-ae57-705c9325d4da",
   "metadata": {},
   "outputs": [
    {
     "name": "stdout",
     "output_type": "stream",
     "text": [
      "\u001b[33mWARNING: You are using pip version 21.1.2; however, version 21.1.3 is available.\n",
      "You should consider upgrading via the '/home/krishna/anaconda3/bin/python -m pip install --upgrade pip' command.\u001b[0m\n"
     ]
    }
   ],
   "source": [
    "!pip install numpy --upgrade --quiet"
   ]
  },
  {
   "cell_type": "code",
   "execution_count": 2,
   "id": "ef36073e-e2f8-4d02-8ecc-2e07713b3451",
   "metadata": {},
   "outputs": [
    {
     "name": "stdout",
     "output_type": "stream",
     "text": [
      "Requirement already satisfied: numpy in ./anaconda3/lib/python3.8/site-packages (1.21.0)\n",
      "\u001b[33mWARNING: You are using pip version 21.1.2; however, version 21.1.3 is available.\n",
      "You should consider upgrading via the '/home/krishna/anaconda3/bin/python -m pip install --upgrade pip' command.\u001b[0m\n"
     ]
    }
   ],
   "source": [
    "!pip install numpy"
   ]
  },
  {
   "cell_type": "code",
   "execution_count": 3,
   "id": "3066a4f3-11f7-4bb3-85f5-58f099d757f3",
   "metadata": {},
   "outputs": [
    {
     "name": "stdout",
     "output_type": "stream",
     "text": [
      "Requirement already satisfied: pip in ./anaconda3/lib/python3.8/site-packages (21.1.2)\n",
      "Collecting pip\n",
      "  Downloading pip-21.1.3-py3-none-any.whl (1.5 MB)\n",
      "\u001b[K     |████████████████████████████████| 1.5 MB 617 kB/s eta 0:00:01\n",
      "\u001b[?25hInstalling collected packages: pip\n",
      "  Attempting uninstall: pip\n",
      "    Found existing installation: pip 21.1.2\n",
      "    Uninstalling pip-21.1.2:\n",
      "      Successfully uninstalled pip-21.1.2\n",
      "Successfully installed pip-21.1.3\n"
     ]
    }
   ],
   "source": [
    "!pip install --upgrade pip"
   ]
  },
  {
   "cell_type": "code",
   "execution_count": 4,
   "id": "c1e8672c-14c2-48f9-8685-916bbeb5d656",
   "metadata": {},
   "outputs": [
    {
     "name": "stdout",
     "output_type": "stream",
     "text": [
      "Requirement already satisfied: numpy in ./anaconda3/lib/python3.8/site-packages (1.21.0)\n"
     ]
    }
   ],
   "source": [
    "!pip install numpy"
   ]
  },
  {
   "cell_type": "code",
   "execution_count": 8,
   "id": "f08aa48b-390a-40e2-8946-508dea0f0f8b",
   "metadata": {},
   "outputs": [],
   "source": [
    "import numpy as np"
   ]
  },
  {
   "cell_type": "code",
   "execution_count": 9,
   "id": "e0cb4846-3c71-46cd-bbfd-826322e267dd",
   "metadata": {},
   "outputs": [],
   "source": [
    "kanto=np.array([73,67,43])"
   ]
  },
  {
   "cell_type": "code",
   "execution_count": 10,
   "id": "7a49b975-e660-4d8c-9963-73d6ac44d095",
   "metadata": {},
   "outputs": [
    {
     "data": {
      "text/plain": [
       "array([73, 67, 43])"
      ]
     },
     "execution_count": 10,
     "metadata": {},
     "output_type": "execute_result"
    }
   ],
   "source": [
    "kanto"
   ]
  },
  {
   "cell_type": "code",
   "execution_count": 13,
   "id": "41223e23-1254-4f1c-8d14-eae10512fae3",
   "metadata": {},
   "outputs": [],
   "source": [
    "weights=np.array([0.3,0.2,0.5])\n"
   ]
  },
  {
   "cell_type": "code",
   "execution_count": 14,
   "id": "aac65da4-6452-42ab-9628-7b2d0e45ecb4",
   "metadata": {},
   "outputs": [
    {
     "data": {
      "text/plain": [
       "array([0.3, 0.2, 0.5])"
      ]
     },
     "execution_count": 14,
     "metadata": {},
     "output_type": "execute_result"
    }
   ],
   "source": [
    "weights"
   ]
  },
  {
   "cell_type": "code",
   "execution_count": 15,
   "id": "1f17f7c5-5d7a-47c0-a996-0c11af019591",
   "metadata": {},
   "outputs": [
    {
     "data": {
      "text/plain": [
       "numpy.ndarray"
      ]
     },
     "execution_count": 15,
     "metadata": {},
     "output_type": "execute_result"
    }
   ],
   "source": [
    "type(kanto)"
   ]
  },
  {
   "cell_type": "code",
   "execution_count": 16,
   "id": "ff0de21e-ddbe-4e15-97ff-040ec9feb1e4",
   "metadata": {},
   "outputs": [
    {
     "data": {
      "text/plain": [
       "numpy.ndarray"
      ]
     },
     "execution_count": 16,
     "metadata": {},
     "output_type": "execute_result"
    }
   ],
   "source": [
    "type(weights)"
   ]
  },
  {
   "cell_type": "code",
   "execution_count": 18,
   "id": "8d775d3c-de27-49db-ae81-2a6bc91fd2b5",
   "metadata": {},
   "outputs": [
    {
     "data": {
      "text/plain": [
       "0.3"
      ]
     },
     "execution_count": 18,
     "metadata": {},
     "output_type": "execute_result"
    }
   ],
   "source": [
    "weights[0]"
   ]
  },
  {
   "cell_type": "code",
   "execution_count": 19,
   "id": "e894a4ac-2db1-4e64-b4d6-f71350db0817",
   "metadata": {},
   "outputs": [
    {
     "data": {
      "text/plain": [
       "43"
      ]
     },
     "execution_count": 19,
     "metadata": {},
     "output_type": "execute_result"
    }
   ],
   "source": [
    "kanto[2]"
   ]
  },
  {
   "cell_type": "code",
   "execution_count": 20,
   "id": "b1a48f2b-1053-4d5a-9a1a-b144bf7d1d48",
   "metadata": {},
   "outputs": [
    {
     "name": "stdout",
     "output_type": "stream",
     "text": [
      "Help on function dot in module numpy:\n",
      "\n",
      "dot(...)\n",
      "    dot(a, b, out=None)\n",
      "    \n",
      "    Dot product of two arrays. Specifically,\n",
      "    \n",
      "    - If both `a` and `b` are 1-D arrays, it is inner product of vectors\n",
      "      (without complex conjugation).\n",
      "    \n",
      "    - If both `a` and `b` are 2-D arrays, it is matrix multiplication,\n",
      "      but using :func:`matmul` or ``a @ b`` is preferred.\n",
      "    \n",
      "    - If either `a` or `b` is 0-D (scalar), it is equivalent to :func:`multiply`\n",
      "      and using ``numpy.multiply(a, b)`` or ``a * b`` is preferred.\n",
      "    \n",
      "    - If `a` is an N-D array and `b` is a 1-D array, it is a sum product over\n",
      "      the last axis of `a` and `b`.\n",
      "    \n",
      "    - If `a` is an N-D array and `b` is an M-D array (where ``M>=2``), it is a\n",
      "      sum product over the last axis of `a` and the second-to-last axis of `b`::\n",
      "    \n",
      "        dot(a, b)[i,j,k,m] = sum(a[i,j,:] * b[k,:,m])\n",
      "    \n",
      "    Parameters\n",
      "    ----------\n",
      "    a : array_like\n",
      "        First argument.\n",
      "    b : array_like\n",
      "        Second argument.\n",
      "    out : ndarray, optional\n",
      "        Output argument. This must have the exact kind that would be returned\n",
      "        if it was not used. In particular, it must have the right type, must be\n",
      "        C-contiguous, and its dtype must be the dtype that would be returned\n",
      "        for `dot(a,b)`. This is a performance feature. Therefore, if these\n",
      "        conditions are not met, an exception is raised, instead of attempting\n",
      "        to be flexible.\n",
      "    \n",
      "    Returns\n",
      "    -------\n",
      "    output : ndarray\n",
      "        Returns the dot product of `a` and `b`.  If `a` and `b` are both\n",
      "        scalars or both 1-D arrays then a scalar is returned; otherwise\n",
      "        an array is returned.\n",
      "        If `out` is given, then it is returned.\n",
      "    \n",
      "    Raises\n",
      "    ------\n",
      "    ValueError\n",
      "        If the last dimension of `a` is not the same size as\n",
      "        the second-to-last dimension of `b`.\n",
      "    \n",
      "    See Also\n",
      "    --------\n",
      "    vdot : Complex-conjugating dot product.\n",
      "    tensordot : Sum products over arbitrary axes.\n",
      "    einsum : Einstein summation convention.\n",
      "    matmul : '@' operator as method with out parameter.\n",
      "    linalg.multi_dot : Chained dot product.\n",
      "    \n",
      "    Examples\n",
      "    --------\n",
      "    >>> np.dot(3, 4)\n",
      "    12\n",
      "    \n",
      "    Neither argument is complex-conjugated:\n",
      "    \n",
      "    >>> np.dot([2j, 3j], [2j, 3j])\n",
      "    (-13+0j)\n",
      "    \n",
      "    For 2-D arrays it is the matrix product:\n",
      "    \n",
      "    >>> a = [[1, 0], [0, 1]]\n",
      "    >>> b = [[4, 1], [2, 2]]\n",
      "    >>> np.dot(a, b)\n",
      "    array([[4, 1],\n",
      "           [2, 2]])\n",
      "    \n",
      "    >>> a = np.arange(3*4*5*6).reshape((3,4,5,6))\n",
      "    >>> b = np.arange(3*4*5*6)[::-1].reshape((5,4,6,3))\n",
      "    >>> np.dot(a, b)[2,3,2,1,2,2]\n",
      "    499128\n",
      "    >>> sum(a[2,3,2,:] * b[1,2,:,2])\n",
      "    499128\n",
      "\n"
     ]
    }
   ],
   "source": [
    "help(np.dot)"
   ]
  },
  {
   "cell_type": "code",
   "execution_count": 21,
   "id": "a4dfa916-7bc5-46af-9837-378d9c91f4ba",
   "metadata": {},
   "outputs": [
    {
     "data": {
      "text/plain": [
       "56.8"
      ]
     },
     "execution_count": 21,
     "metadata": {},
     "output_type": "execute_result"
    }
   ],
   "source": [
    "np.dot(kanto,weights)"
   ]
  },
  {
   "cell_type": "code",
   "execution_count": 24,
   "id": "bd090577-5eee-40e0-af8a-a02fdb4ebfc9",
   "metadata": {},
   "outputs": [
    {
     "data": {
      "text/plain": [
       "array([73, 67, 43])"
      ]
     },
     "execution_count": 24,
     "metadata": {},
     "output_type": "execute_result"
    }
   ],
   "source": [
    "kanto\n"
   ]
  },
  {
   "cell_type": "code",
   "execution_count": 25,
   "id": "9ac10ead-761a-42fc-8bca-1a51e3d8a8b6",
   "metadata": {},
   "outputs": [
    {
     "data": {
      "text/plain": [
       "array([0.3, 0.2, 0.5])"
      ]
     },
     "execution_count": 25,
     "metadata": {},
     "output_type": "execute_result"
    }
   ],
   "source": [
    "weights"
   ]
  },
  {
   "cell_type": "code",
   "execution_count": 26,
   "id": "a1962fd8-66da-47fb-a9bf-f7013665b324",
   "metadata": {},
   "outputs": [
    {
     "data": {
      "text/plain": [
       "array([21.9, 13.4, 21.5])"
      ]
     },
     "execution_count": 26,
     "metadata": {},
     "output_type": "execute_result"
    }
   ],
   "source": [
    "kanto*weights"
   ]
  },
  {
   "cell_type": "code",
   "execution_count": 27,
   "id": "07dc2031-c533-405e-bb15-9bc8fc21cd12",
   "metadata": {},
   "outputs": [
    {
     "data": {
      "text/plain": [
       "56.8"
      ]
     },
     "execution_count": 27,
     "metadata": {},
     "output_type": "execute_result"
    }
   ],
   "source": [
    "(kanto*weights).sum()"
   ]
  },
  {
   "cell_type": "code",
   "execution_count": 29,
   "id": "a178d3f2-68a8-4da8-8b5a-c184464ad8d6",
   "metadata": {},
   "outputs": [
    {
     "data": {
      "text/plain": [
       "56.8"
      ]
     },
     "execution_count": 29,
     "metadata": {},
     "output_type": "execute_result"
    }
   ],
   "source": [
    "kanto @ weights"
   ]
  },
  {
   "cell_type": "code",
   "execution_count": null,
   "id": "eac20cb8-baad-4a36-bd35-ddebbc703799",
   "metadata": {},
   "outputs": [],
   "source": []
  },
  {
   "cell_type": "code",
   "execution_count": 33,
   "id": "aee6cf67-1810-415e-9fa4-3e81a01fa07c",
   "metadata": {},
   "outputs": [
    {
     "data": {
      "text/plain": [
       "('climate.txt', <http.client.HTTPMessage at 0x7ff56cfd2730>)"
      ]
     },
     "execution_count": 33,
     "metadata": {},
     "output_type": "execute_result"
    }
   ],
   "source": [
    "import urllib.request\n",
    "\n",
    "urllib.request.urlretrieve(\n",
    "    'https://hub.jovian.ml/wp-content/uploads/2020/08/climate.csv', \n",
    "    'climate.txt')"
   ]
  },
  {
   "cell_type": "code",
   "execution_count": 37,
   "id": "08d3185e-4dd7-437f-9b41-476dfcf6ff7b",
   "metadata": {},
   "outputs": [],
   "source": [
    "climate_data=np.genfromtxt('climate.txt',delimiter=',',skip_header=1)\n"
   ]
  },
  {
   "cell_type": "code",
   "execution_count": 38,
   "id": "8520040b-2eba-42aa-8433-935f62b919d7",
   "metadata": {},
   "outputs": [
    {
     "data": {
      "text/plain": [
       "array([[25., 76., 99.],\n",
       "       [39., 65., 70.],\n",
       "       [59., 45., 77.],\n",
       "       ...,\n",
       "       [99., 62., 58.],\n",
       "       [70., 71., 91.],\n",
       "       [92., 39., 76.]])"
      ]
     },
     "execution_count": 38,
     "metadata": {},
     "output_type": "execute_result"
    }
   ],
   "source": [
    "climate_data"
   ]
  },
  {
   "cell_type": "code",
   "execution_count": 40,
   "id": "0b1f6506-5226-4d99-8003-30526f597cf9",
   "metadata": {},
   "outputs": [
    {
     "data": {
      "text/plain": [
       "(10000, 3)"
      ]
     },
     "execution_count": 40,
     "metadata": {},
     "output_type": "execute_result"
    }
   ],
   "source": [
    "climate_data.shape"
   ]
  },
  {
   "cell_type": "code",
   "execution_count": 42,
   "id": "b63b6cc8-d9ec-4548-857f-1f408a7e4b30",
   "metadata": {},
   "outputs": [],
   "source": [
    "weights=np.array([0.3,0.2,0.5])"
   ]
  },
  {
   "cell_type": "code",
   "execution_count": 43,
   "id": "083519d7-0404-46a2-8fc4-8554bb586bf7",
   "metadata": {},
   "outputs": [],
   "source": [
    "yields=climate_data @ weights"
   ]
  },
  {
   "cell_type": "code",
   "execution_count": 44,
   "id": "79ad4cb8-0f0b-4e31-9e00-9f94b52b9e1c",
   "metadata": {},
   "outputs": [
    {
     "data": {
      "text/plain": [
       "array([72.2, 59.7, 65.2, ..., 71.1, 80.7, 73.4])"
      ]
     },
     "execution_count": 44,
     "metadata": {},
     "output_type": "execute_result"
    }
   ],
   "source": [
    "yields"
   ]
  },
  {
   "cell_type": "code",
   "execution_count": 46,
   "id": "65f857d7-f756-4ba4-9602-89a9358b2703",
   "metadata": {},
   "outputs": [
    {
     "data": {
      "text/plain": [
       "(10000,)"
      ]
     },
     "execution_count": 46,
     "metadata": {},
     "output_type": "execute_result"
    }
   ],
   "source": [
    "yields.shape"
   ]
  },
  {
   "cell_type": "code",
   "execution_count": 55,
   "id": "4fc244b5-f8dc-4bba-a39f-b6ac4998053c",
   "metadata": {},
   "outputs": [],
   "source": [
    "climate_results=np.concatenate((climate_data,yields.reshape(10000,1)),axis=1)"
   ]
  },
  {
   "cell_type": "code",
   "execution_count": 56,
   "id": "d8b27cf2-250c-42a5-b335-6f3ef6c7b3e2",
   "metadata": {},
   "outputs": [
    {
     "data": {
      "text/plain": [
       "array([[25. , 76. , 99. , 72.2],\n",
       "       [39. , 65. , 70. , 59.7],\n",
       "       [59. , 45. , 77. , 65.2],\n",
       "       ...,\n",
       "       [99. , 62. , 58. , 71.1],\n",
       "       [70. , 71. , 91. , 80.7],\n",
       "       [92. , 39. , 76. , 73.4]])"
      ]
     },
     "execution_count": 56,
     "metadata": {},
     "output_type": "execute_result"
    }
   ],
   "source": [
    "climate_results"
   ]
  },
  {
   "cell_type": "code",
   "execution_count": 65,
   "id": "5f5584ff-e1d5-439f-b278-8221cfa25944",
   "metadata": {},
   "outputs": [],
   "source": [
    "np.savetxt('climate_results.txt',climate_results,fmt='%.2f',header='temperaure,rainfall,humidity,yeild_appples',comments=' ')"
   ]
  },
  {
   "cell_type": "code",
   "execution_count": 66,
   "id": "a5c4d0a3-b1af-4d40-9c18-0cfe389d6fc8",
   "metadata": {},
   "outputs": [],
   "source": [
    "arr2=np.array([[1,2,3,4],[4,5,6,7],[8,9,10,11],[14,15,16,17]])\n"
   ]
  },
  {
   "cell_type": "code",
   "execution_count": 67,
   "id": "edf3114b-4608-42fa-9ec5-e0de865f6e2a",
   "metadata": {},
   "outputs": [
    {
     "data": {
      "text/plain": [
       "array([[ 1,  2,  3,  4],\n",
       "       [ 4,  5,  6,  7],\n",
       "       [ 8,  9, 10, 11],\n",
       "       [14, 15, 16, 17]])"
      ]
     },
     "execution_count": 67,
     "metadata": {},
     "output_type": "execute_result"
    }
   ],
   "source": [
    "arr2"
   ]
  },
  {
   "cell_type": "code",
   "execution_count": 72,
   "id": "b0ed2bd1-7b05-40e4-8f1e-71b6b48af2fd",
   "metadata": {},
   "outputs": [],
   "source": [
    "arr5=np.array([[7,8],[7,8],[7,8],[7,8]])"
   ]
  },
  {
   "cell_type": "code",
   "execution_count": 92,
   "id": "86cc3549-a603-4f00-aa3d-c6c3d3c26602",
   "metadata": {},
   "outputs": [],
   "source": [
    "url1 = 'https://gist.githubusercontent.com/aakashns/257f6e6c8719c17d0e498ea287d1a386/raw/7def9ef4234ddf0bc82f855ad67dac8b971852ef/loans1.txt'\n",
    "url2 = 'https://gist.githubusercontent.com/aakashns/257f6e6c8719c17d0e498ea287d1a386/raw/7def9ef4234ddf0bc82f855ad67dac8b971852ef/loans2.txt'\n",
    "url3 = 'https://gist.githubusercontent.com/aakashns/257f6e6c8719c17d0e498ea287d1a386/raw/7def9ef4234ddf0bc82f855ad67dac8b971852ef/loans3.txt'"
   ]
  },
  {
   "cell_type": "code",
   "execution_count": 93,
   "id": "43bb08b1-584c-42c9-b444-a34666dbc0b1",
   "metadata": {},
   "outputs": [],
   "source": [
    "from urllib.request import urlretrieve"
   ]
  },
  {
   "cell_type": "code",
   "execution_count": 99,
   "id": "52124c70-a2ca-4153-88f5-b5c41b24393c",
   "metadata": {},
   "outputs": [],
   "source": [
    "import os"
   ]
  },
  {
   "cell_type": "code",
   "execution_count": 100,
   "id": "13761ff3-e412-4f45-ab3f-bd331dc235ab",
   "metadata": {},
   "outputs": [
    {
     "data": {
      "text/plain": [
       "'/home/krishna'"
      ]
     },
     "execution_count": 100,
     "metadata": {},
     "output_type": "execute_result"
    }
   ],
   "source": [
    "os.getcwd()"
   ]
  },
  {
   "cell_type": "code",
   "execution_count": 101,
   "id": "5b3aec4c-1ed0-4292-8b65-0fe756b2104d",
   "metadata": {},
   "outputs": [
    {
     "data": {
      "text/plain": [
       "['File handling.ipynb',\n",
       " 'Untitled1.ipynb',\n",
       " '.pki',\n",
       " 'Videos',\n",
       " '.sudo_as_admin_successful',\n",
       " '.anaconda',\n",
       " 'file.txt',\n",
       " '.ssh',\n",
       " '.local',\n",
       " 'c++',\n",
       " 'jupyter',\n",
       " 'anaconda3',\n",
       " '.config',\n",
       " '.gvfs',\n",
       " 'Desktop',\n",
       " 'git.tar.gz',\n",
       " 'data visualzation.ipynb',\n",
       " 'Public',\n",
       " 'env_site',\n",
       " '.thunderbird',\n",
       " '.cache',\n",
       " 'Templates',\n",
       " 'Untitled2.ipynb',\n",
       " '.bash_logout',\n",
       " 'snap',\n",
       " '.zoom',\n",
       " 'Music',\n",
       " 'IdeaProjects',\n",
       " '.gnupg',\n",
       " '.mysql_history',\n",
       " '.ipython',\n",
       " '.continuum',\n",
       " 'git-2.23.0',\n",
       " '.jupyter',\n",
       " 'Documents',\n",
       " 'Untitled.ipynb',\n",
       " 'Pictures',\n",
       " '.mozilla',\n",
       " 'file1.txt',\n",
       " '.conda',\n",
       " 'climate_results.txt',\n",
       " '.gphoto',\n",
       " 'Downloads',\n",
       " '.wget-hsts',\n",
       " '.java',\n",
       " '.ICEauthority',\n",
       " '.dbus',\n",
       " '.bash_history',\n",
       " '.bashrc',\n",
       " '.profile',\n",
       " '.gitconfig',\n",
       " 'PycharmProjects',\n",
       " '.vscode',\n",
       " 'climate.txt',\n",
       " 'get-pip.py',\n",
       " '.condarc',\n",
       " '.ipynb_checkpoints',\n",
       " '10.30.27.62:8000',\n",
       " '.android',\n",
       " 'examples.desktop']"
      ]
     },
     "execution_count": 101,
     "metadata": {},
     "output_type": "execute_result"
    }
   ],
   "source": [
    "os.listdir('.')"
   ]
  },
  {
   "cell_type": "code",
   "execution_count": 102,
   "id": "304cee02-60f2-493a-ad61-5f03f54b018b",
   "metadata": {},
   "outputs": [
    {
     "data": {
      "text/plain": [
       "['libexec', 'sbin', 'bin', 'lib', 'games', 'src', 'include', 'share', 'local']"
      ]
     },
     "execution_count": 102,
     "metadata": {},
     "output_type": "execute_result"
    }
   ],
   "source": [
    "os.listdir('/usr')"
   ]
  },
  {
   "cell_type": "code",
   "execution_count": null,
   "id": "19e0c78e-95dd-494c-be8d-194948c1db95",
   "metadata": {},
   "outputs": [],
   "source": []
  },
  {
   "cell_type": "code",
   "execution_count": null,
   "id": "36af2dc3-bd75-44dd-8178-c670362c515e",
   "metadata": {},
   "outputs": [],
   "source": []
  },
  {
   "cell_type": "code",
   "execution_count": null,
   "id": "a699edb0-530c-4be0-a596-211388024668",
   "metadata": {},
   "outputs": [],
   "source": []
  },
  {
   "cell_type": "code",
   "execution_count": null,
   "id": "690fb279-1972-409b-8220-6b3b4073f3aa",
   "metadata": {},
   "outputs": [],
   "source": []
  },
  {
   "cell_type": "code",
   "execution_count": null,
   "id": "463b5149-45a4-464f-8322-83cbc381b61f",
   "metadata": {},
   "outputs": [],
   "source": []
  }
 ],
 "metadata": {
  "kernelspec": {
   "display_name": "Python 3",
   "language": "python",
   "name": "python3"
  },
  "language_info": {
   "codemirror_mode": {
    "name": "ipython",
    "version": 3
   },
   "file_extension": ".py",
   "mimetype": "text/x-python",
   "name": "python",
   "nbconvert_exporter": "python",
   "pygments_lexer": "ipython3",
   "version": "3.8.8"
  }
 },
 "nbformat": 4,
 "nbformat_minor": 5
}
