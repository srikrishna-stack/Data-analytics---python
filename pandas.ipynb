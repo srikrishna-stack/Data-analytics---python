{
 "cells": [
  {
   "cell_type": "code",
   "execution_count": null,
   "id": "698c9c89-6ac5-4ce6-bf05-33d1e0baacf5",
   "metadata": {},
   "outputs": [],
   "source": [
    "from urllib.request import urlretrieve"
   ]
  },
  {
   "cell_type": "code",
   "execution_count": null,
   "id": "9eb16ead-bcc6-44c6-93ad-996aaec477ab",
   "metadata": {},
   "outputs": [],
   "source": [
    "italy_covid_url = 'https://gist.githubusercontent.com/aakashns/f6a004fa20c84fec53262f9a8bfee775/raw/f309558b1cf5103424cef58e2ecb8704dcd4d74c/italy-covid-daywise.csv'\n"
   ]
  },
  {
   "cell_type": "code",
   "execution_count": null,
   "id": "96851b6e-f54b-4052-bb10-94421f218c3b",
   "metadata": {},
   "outputs": [],
   "source": [
    "urlretrieve(italy_covid_url, 'italy-covid-daywise.csv')"
   ]
  },
  {
   "cell_type": "code",
   "execution_count": null,
   "id": "28dcc720-4774-4b59-8e34-e3713ed67232",
   "metadata": {},
   "outputs": [],
   "source": [
    "!pip install pandas\n"
   ]
  },
  {
   "cell_type": "code",
   "execution_count": null,
   "id": "0a0ee46e-269a-4d15-9f68-1ea2575ab9f7",
   "metadata": {},
   "outputs": [],
   "source": [
    "import pandas as pd\n"
   ]
  },
  {
   "cell_type": "code",
   "execution_count": null,
   "id": "25e076fc-73f5-4ab1-8113-24fb07559dd6",
   "metadata": {},
   "outputs": [],
   "source": [
    "covid_df=pd.read_csv('italy-covid-daywise.csv')"
   ]
  },
  {
   "cell_type": "code",
   "execution_count": null,
   "id": "d69773d9-8300-4363-a74f-3062cc5a5bb9",
   "metadata": {},
   "outputs": [],
   "source": [
    "type(covid_df)"
   ]
  },
  {
   "cell_type": "code",
   "execution_count": null,
   "id": "6ed481f0-9b95-4e50-a2e3-28a9361ac22d",
   "metadata": {},
   "outputs": [],
   "source": [
    "covid_df"
   ]
  },
  {
   "cell_type": "code",
   "execution_count": null,
   "id": "ccb1d5b3-6110-4efa-8f30-a838fd698d7f",
   "metadata": {},
   "outputs": [],
   "source": [
    "covid_df.info()"
   ]
  },
  {
   "cell_type": "code",
   "execution_count": null,
   "id": "7ea232e0-2937-45b7-9f85-87df842d5d20",
   "metadata": {},
   "outputs": [],
   "source": [
    "covid_df.describe()"
   ]
  },
  {
   "cell_type": "code",
   "execution_count": null,
   "id": "3ef2dca2-cd7d-4538-a6e8-0f9f9dd7d079",
   "metadata": {},
   "outputs": [],
   "source": [
    "covid_df.columns"
   ]
  },
  {
   "cell_type": "code",
   "execution_count": null,
   "id": "66610273-27e4-4ca8-8845-d56eb3fdd823",
   "metadata": {},
   "outputs": [],
   "source": [
    "covid_df.shape"
   ]
  },
  {
   "cell_type": "code",
   "execution_count": null,
   "id": "c6cde805-b30f-42bf-9a4c-36cb7ef23c7d",
   "metadata": {},
   "outputs": [],
   "source": [
    "covid_df['new_cases']"
   ]
  },
  {
   "cell_type": "code",
   "execution_count": null,
   "id": "709402be-fc3a-4677-a672-6ffa4742b6e6",
   "metadata": {},
   "outputs": [],
   "source": [
    "type(covid_df['new_cases'])"
   ]
  },
  {
   "cell_type": "code",
   "execution_count": null,
   "id": "5e11e4dc-a4b9-4300-93aa-151dc00ab779",
   "metadata": {},
   "outputs": [],
   "source": [
    "covid_df['new_cases'][246]"
   ]
  },
  {
   "cell_type": "code",
   "execution_count": null,
   "id": "9388040d-35bc-4dc6-8e04-31a91f40133d",
   "metadata": {},
   "outputs": [],
   "source": [
    "covid_df['new_tests'][240]"
   ]
  },
  {
   "cell_type": "code",
   "execution_count": null,
   "id": "b0fce0f4-5383-4241-b1ec-770cc74b4a14",
   "metadata": {},
   "outputs": [],
   "source": [
    "covid_df.at[243,'new_tests']"
   ]
  },
  {
   "cell_type": "code",
   "execution_count": null,
   "id": "7d3fc2c7-13ab-4fe9-a794-125d92593ff2",
   "metadata": {},
   "outputs": [],
   "source": [
    "covid_df.new_cases"
   ]
  },
  {
   "cell_type": "code",
   "execution_count": null,
   "id": "2199e523-9c1d-4046-bff2-c80300250228",
   "metadata": {},
   "outputs": [],
   "source": [
    "cases_df=covid_df[['date','new_cases']]\n",
    "cases_df\n"
   ]
  },
  {
   "cell_type": "code",
   "execution_count": null,
   "id": "2b71f355-f879-4d78-879d-2054947fc4c2",
   "metadata": {},
   "outputs": [],
   "source": [
    "tests_df=covid_df[['date','new_cases']]\n",
    "tests_df"
   ]
  },
  {
   "cell_type": "code",
   "execution_count": null,
   "id": "077cbe6f-6005-412e-8075-c2eb387a99dd",
   "metadata": {},
   "outputs": [],
   "source": [
    "covid_df_copy=covid_df.copy()"
   ]
  },
  {
   "cell_type": "code",
   "execution_count": null,
   "id": "1ffe8bfa-f44c-4dc9-9358-04cdd0c9f918",
   "metadata": {},
   "outputs": [],
   "source": [
    "covid_df"
   ]
  },
  {
   "cell_type": "code",
   "execution_count": null,
   "id": "703b13bb-a56b-4c3e-9dc6-7cd6abaafda5",
   "metadata": {},
   "outputs": [],
   "source": [
    "#.loc we can access the row of data\n",
    "covid_df.loc[243]"
   ]
  },
  {
   "cell_type": "code",
   "execution_count": null,
   "id": "dbf67b23-e106-4db1-a457-4705eeb1adfd",
   "metadata": {},
   "outputs": [],
   "source": [
    "type(covid_df.loc[243])"
   ]
  },
  {
   "cell_type": "code",
   "execution_count": null,
   "id": "f3863414-271c-48eb-95b3-ed1cf481457c",
   "metadata": {},
   "outputs": [],
   "source": [
    "covid_df.head(5)"
   ]
  },
  {
   "cell_type": "code",
   "execution_count": null,
   "id": "b7ccf859-e16a-493f-ab08-f906b9fef601",
   "metadata": {},
   "outputs": [],
   "source": [
    "covid_df.tail(4)"
   ]
  },
  {
   "cell_type": "code",
   "execution_count": null,
   "id": "c43cdaec-9911-44f4-8501-0a3289372e23",
   "metadata": {},
   "outputs": [],
   "source": [
    "covid_df.at[0,'new_tests']"
   ]
  },
  {
   "cell_type": "code",
   "execution_count": null,
   "id": "9e6c2dac-b488-4b4c-a8f7-c5f073b67321",
   "metadata": {},
   "outputs": [],
   "source": [
    "type(covid_df.at[0,'new_tests'])"
   ]
  },
  {
   "cell_type": "code",
   "execution_count": null,
   "id": "ba4a410b-33d9-43c2-a9f2-28c14edb5165",
   "metadata": {},
   "outputs": [],
   "source": [
    "covid_df.new_tests.first_valid_index()"
   ]
  },
  {
   "cell_type": "code",
   "execution_count": null,
   "id": "e3645664-43fa-49d2-9d9b-410497d13365",
   "metadata": {},
   "outputs": [],
   "source": [
    "covid_df.loc[108:111]"
   ]
  },
  {
   "cell_type": "code",
   "execution_count": null,
   "id": "f5961c6a-c0d4-4555-a63a-d0a53a2a3c7b",
   "metadata": {},
   "outputs": [],
   "source": [
    "covid_df.sample(10)"
   ]
  },
  {
   "cell_type": "code",
   "execution_count": null,
   "id": "0e5a1896-4ac8-47b6-9561-cdc5a4184f48",
   "metadata": {},
   "outputs": [],
   "source": [
    "covid_df\n"
   ]
  },
  {
   "cell_type": "code",
   "execution_count": null,
   "id": "e2e68988-5e94-45c9-8b52-004ac31b4038",
   "metadata": {},
   "outputs": [],
   "source": [
    "total_cases=covid_df.new_cases.sum()\n",
    "total_deaths=covid_df.new_deaths.sum()"
   ]
  },
  {
   "cell_type": "code",
   "execution_count": null,
   "id": "e39bbe9b-f84d-48b5-a10e-abdcce990aa0",
   "metadata": {},
   "outputs": [],
   "source": [
    "print('the numnber of {} reported cases \\n the number of death cases {}'.format(int(total_cases),int(total_deaths)))"
   ]
  },
  {
   "cell_type": "code",
   "execution_count": null,
   "id": "1943f826-4348-4abf-9a93-c1b10c2e94ad",
   "metadata": {},
   "outputs": [],
   "source": [
    "death_rate=covid_df.new_deaths.sum()/covid_df.new_cases.sum()"
   ]
  },
  {
   "cell_type": "code",
   "execution_count": null,
   "id": "d709c014-9b7f-403b-96e7-81ef155616ee",
   "metadata": {},
   "outputs": [],
   "source": [
    "print('the overall reported death rate in itay is {:.2f}%'.format(death_rate))"
   ]
  },
  {
   "cell_type": "code",
   "execution_count": null,
   "id": "609f9fa1-b8de-4a3e-b215-4af2562299e8",
   "metadata": {},
   "outputs": [],
   "source": [
    "initial_tests=935310\n",
    "total_tests=initial_tests+covid_df.new_tests.sum()"
   ]
  },
  {
   "cell_type": "code",
   "execution_count": null,
   "id": "29a36c47-73a3-4849-95f8-833e084cfd6e",
   "metadata": {},
   "outputs": [],
   "source": [
    "total_tests"
   ]
  },
  {
   "cell_type": "code",
   "execution_count": null,
   "id": "dc13c71f-f222-48db-b89e-cdd90f2145b3",
   "metadata": {},
   "outputs": [],
   "source": [
    "positive_rate=total_cases/total_tests\n"
   ]
  },
  {
   "cell_type": "code",
   "execution_count": null,
   "id": "edf37de0-387d-4738-b19a-9295ca2df841",
   "metadata": {},
   "outputs": [],
   "source": [
    "print('{:.2f}% of tests in Italy led to a positive diagnosis.'.format(positive_rate))"
   ]
  },
  {
   "cell_type": "code",
   "execution_count": null,
   "id": "74d4a686-695d-4ce1-b098-279225b8a318",
   "metadata": {},
   "outputs": [],
   "source": [
    "high_new_cases=covid_df.new_cases>1000"
   ]
  },
  {
   "cell_type": "code",
   "execution_count": null,
   "id": "168d374e-0a97-4484-991b-647f05d98ce8",
   "metadata": {},
   "outputs": [],
   "source": [
    "high_new_cases"
   ]
  },
  {
   "cell_type": "code",
   "execution_count": null,
   "id": "476e37df-5f80-4336-8a8f-c8aaaa134d9b",
   "metadata": {},
   "outputs": [],
   "source": [
    "high_new_cases=covid_df.new_cases>1000"
   ]
  },
  {
   "cell_type": "code",
   "execution_count": null,
   "id": "c3a00ab5-f04e-4c20-b39f-7197a2720f45",
   "metadata": {},
   "outputs": [],
   "source": [
    "covid_df[high_new_cases]"
   ]
  },
  {
   "cell_type": "code",
   "execution_count": null,
   "id": "a901fe8b-2829-41ca-a066-2bcd055ef5cf",
   "metadata": {},
   "outputs": [],
   "source": [
    "low_new_cases=covid_df.new_cases<1000"
   ]
  },
  {
   "cell_type": "code",
   "execution_count": null,
   "id": "c4bdd39d-def9-4964-86c9-916c3ee5daec",
   "metadata": {},
   "outputs": [],
   "source": [
    "low_new_cases"
   ]
  },
  {
   "cell_type": "code",
   "execution_count": null,
   "id": "1d8548ca-904e-4c6e-ba2a-ec16e3f8e6e9",
   "metadata": {},
   "outputs": [],
   "source": [
    "covid_df[low_new_cases]"
   ]
  },
  {
   "cell_type": "code",
   "execution_count": null,
   "id": "23dae445-3a50-4c70-bc65-38d79a1f1de1",
   "metadata": {},
   "outputs": [],
   "source": [
    "high_cases=covid_df[covid_df.new_cases>1000]"
   ]
  },
  {
   "cell_type": "code",
   "execution_count": null,
   "id": "71c312bc-f4e7-4da6-beb7-930d80116895",
   "metadata": {},
   "outputs": [],
   "source": [
    "high_cases"
   ]
  },
  {
   "cell_type": "code",
   "execution_count": null,
   "id": "373de6dd-82bf-49e7-a29f-e3bbd358fd67",
   "metadata": {},
   "outputs": [],
   "source": []
  },
  {
   "cell_type": "code",
   "execution_count": null,
   "id": "a63c2c5f-1d09-4865-b5bc-288e3cf9b97d",
   "metadata": {},
   "outputs": [],
   "source": [
    "!pip install Ipython\n"
   ]
  },
  {
   "cell_type": "code",
   "execution_count": null,
   "id": "c675d773-6e4d-43c5-95e4-057c473414b1",
   "metadata": {},
   "outputs": [],
   "source": [
    "from Ipython.display import display\n",
    "with pd.option_context('displat.max_rows',100):\n",
    "    display(covid_df[covid_df.new_cases>1000])"
   ]
  },
  {
   "cell_type": "code",
   "execution_count": null,
   "id": "c1c83ece-c184-43ad-9073-0e840208c83f",
   "metadata": {},
   "outputs": [],
   "source": [
    "ipython --version"
   ]
  },
  {
   "cell_type": "code",
   "execution_count": null,
   "id": "51af0dd2-3d4c-4e70-8652-0e50b55d8e79",
   "metadata": {},
   "outputs": [],
   "source": [
    "pip install ipython"
   ]
  },
  {
   "cell_type": "code",
   "execution_count": null,
   "id": "c91b0ad1-329d-461c-82da-2277cb78f887",
   "metadata": {},
   "outputs": [],
   "source": []
  },
  {
   "cell_type": "code",
   "execution_count": 5,
   "id": "7dfbf166-a882-4138-98ee-5b8cd1db90ee",
   "metadata": {},
   "outputs": [
    {
     "name": "stdout",
     "output_type": "stream",
     "text": [
      "\n",
      "PackageNotInstalledError: Package is not installed in prefix.\n",
      "  prefix: /home/krishna/anaconda3\n",
      "  package name: canda\n",
      "\n",
      "\n",
      "\n",
      "Note: you may need to restart the kernel to use updated packages.\n"
     ]
    }
   ],
   "source": [
    "conda update canda"
   ]
  },
  {
   "cell_type": "code",
   "execution_count": 7,
   "id": "9f2132f4-522b-4509-997f-9b14cdf657f1",
   "metadata": {},
   "outputs": [],
   "source": [
    "import pandas as pd"
   ]
  },
  {
   "cell_type": "code",
   "execution_count": 8,
   "id": "cda71f5e-10e9-45d1-abc1-73a63f2d3bc7",
   "metadata": {},
   "outputs": [],
   "source": [
    "covid_df=pd.read_csv('italy-covid-daywise.csv')"
   ]
  },
  {
   "cell_type": "code",
   "execution_count": 9,
   "id": "5a588ac6-3ad3-44b5-8ebf-9d653f9220e8",
   "metadata": {},
   "outputs": [
    {
     "data": {
      "text/html": [
       "<div>\n",
       "<style scoped>\n",
       "    .dataframe tbody tr th:only-of-type {\n",
       "        vertical-align: middle;\n",
       "    }\n",
       "\n",
       "    .dataframe tbody tr th {\n",
       "        vertical-align: top;\n",
       "    }\n",
       "\n",
       "    .dataframe thead th {\n",
       "        text-align: right;\n",
       "    }\n",
       "</style>\n",
       "<table border=\"1\" class=\"dataframe\">\n",
       "  <thead>\n",
       "    <tr style=\"text-align: right;\">\n",
       "      <th></th>\n",
       "      <th>date</th>\n",
       "      <th>new_cases</th>\n",
       "      <th>new_deaths</th>\n",
       "      <th>new_tests</th>\n",
       "    </tr>\n",
       "  </thead>\n",
       "  <tbody>\n",
       "    <tr>\n",
       "      <th>0</th>\n",
       "      <td>2019-12-31</td>\n",
       "      <td>0.0</td>\n",
       "      <td>0.0</td>\n",
       "      <td>NaN</td>\n",
       "    </tr>\n",
       "    <tr>\n",
       "      <th>1</th>\n",
       "      <td>2020-01-01</td>\n",
       "      <td>0.0</td>\n",
       "      <td>0.0</td>\n",
       "      <td>NaN</td>\n",
       "    </tr>\n",
       "    <tr>\n",
       "      <th>2</th>\n",
       "      <td>2020-01-02</td>\n",
       "      <td>0.0</td>\n",
       "      <td>0.0</td>\n",
       "      <td>NaN</td>\n",
       "    </tr>\n",
       "    <tr>\n",
       "      <th>3</th>\n",
       "      <td>2020-01-03</td>\n",
       "      <td>0.0</td>\n",
       "      <td>0.0</td>\n",
       "      <td>NaN</td>\n",
       "    </tr>\n",
       "    <tr>\n",
       "      <th>4</th>\n",
       "      <td>2020-01-04</td>\n",
       "      <td>0.0</td>\n",
       "      <td>0.0</td>\n",
       "      <td>NaN</td>\n",
       "    </tr>\n",
       "    <tr>\n",
       "      <th>...</th>\n",
       "      <td>...</td>\n",
       "      <td>...</td>\n",
       "      <td>...</td>\n",
       "      <td>...</td>\n",
       "    </tr>\n",
       "    <tr>\n",
       "      <th>243</th>\n",
       "      <td>2020-08-30</td>\n",
       "      <td>1444.0</td>\n",
       "      <td>1.0</td>\n",
       "      <td>53541.0</td>\n",
       "    </tr>\n",
       "    <tr>\n",
       "      <th>244</th>\n",
       "      <td>2020-08-31</td>\n",
       "      <td>1365.0</td>\n",
       "      <td>4.0</td>\n",
       "      <td>42583.0</td>\n",
       "    </tr>\n",
       "    <tr>\n",
       "      <th>245</th>\n",
       "      <td>2020-09-01</td>\n",
       "      <td>996.0</td>\n",
       "      <td>6.0</td>\n",
       "      <td>54395.0</td>\n",
       "    </tr>\n",
       "    <tr>\n",
       "      <th>246</th>\n",
       "      <td>2020-09-02</td>\n",
       "      <td>975.0</td>\n",
       "      <td>8.0</td>\n",
       "      <td>NaN</td>\n",
       "    </tr>\n",
       "    <tr>\n",
       "      <th>247</th>\n",
       "      <td>2020-09-03</td>\n",
       "      <td>1326.0</td>\n",
       "      <td>6.0</td>\n",
       "      <td>NaN</td>\n",
       "    </tr>\n",
       "  </tbody>\n",
       "</table>\n",
       "<p>248 rows × 4 columns</p>\n",
       "</div>"
      ],
      "text/plain": [
       "           date  new_cases  new_deaths  new_tests\n",
       "0    2019-12-31        0.0         0.0        NaN\n",
       "1    2020-01-01        0.0         0.0        NaN\n",
       "2    2020-01-02        0.0         0.0        NaN\n",
       "3    2020-01-03        0.0         0.0        NaN\n",
       "4    2020-01-04        0.0         0.0        NaN\n",
       "..          ...        ...         ...        ...\n",
       "243  2020-08-30     1444.0         1.0    53541.0\n",
       "244  2020-08-31     1365.0         4.0    42583.0\n",
       "245  2020-09-01      996.0         6.0    54395.0\n",
       "246  2020-09-02      975.0         8.0        NaN\n",
       "247  2020-09-03     1326.0         6.0        NaN\n",
       "\n",
       "[248 rows x 4 columns]"
      ]
     },
     "execution_count": 9,
     "metadata": {},
     "output_type": "execute_result"
    }
   ],
   "source": [
    "covid_df"
   ]
  },
  {
   "cell_type": "code",
   "execution_count": 13,
   "id": "bee62763-9db4-4718-aa44-ad0336fa1040",
   "metadata": {},
   "outputs": [
    {
     "data": {
      "text/html": [
       "<div>\n",
       "<style scoped>\n",
       "    .dataframe tbody tr th:only-of-type {\n",
       "        vertical-align: middle;\n",
       "    }\n",
       "\n",
       "    .dataframe tbody tr th {\n",
       "        vertical-align: top;\n",
       "    }\n",
       "\n",
       "    .dataframe thead th {\n",
       "        text-align: right;\n",
       "    }\n",
       "</style>\n",
       "<table border=\"1\" class=\"dataframe\">\n",
       "  <thead>\n",
       "    <tr style=\"text-align: right;\">\n",
       "      <th></th>\n",
       "      <th>date</th>\n",
       "      <th>new_cases</th>\n",
       "      <th>new_deaths</th>\n",
       "      <th>new_tests</th>\n",
       "    </tr>\n",
       "  </thead>\n",
       "  <tbody>\n",
       "    <tr>\n",
       "      <th>82</th>\n",
       "      <td>2020-03-22</td>\n",
       "      <td>6557.0</td>\n",
       "      <td>795.0</td>\n",
       "      <td>NaN</td>\n",
       "    </tr>\n",
       "    <tr>\n",
       "      <th>87</th>\n",
       "      <td>2020-03-27</td>\n",
       "      <td>6153.0</td>\n",
       "      <td>660.0</td>\n",
       "      <td>NaN</td>\n",
       "    </tr>\n",
       "    <tr>\n",
       "      <th>81</th>\n",
       "      <td>2020-03-21</td>\n",
       "      <td>5986.0</td>\n",
       "      <td>625.0</td>\n",
       "      <td>NaN</td>\n",
       "    </tr>\n",
       "    <tr>\n",
       "      <th>89</th>\n",
       "      <td>2020-03-29</td>\n",
       "      <td>5974.0</td>\n",
       "      <td>887.0</td>\n",
       "      <td>NaN</td>\n",
       "    </tr>\n",
       "    <tr>\n",
       "      <th>88</th>\n",
       "      <td>2020-03-28</td>\n",
       "      <td>5959.0</td>\n",
       "      <td>971.0</td>\n",
       "      <td>NaN</td>\n",
       "    </tr>\n",
       "    <tr>\n",
       "      <th>83</th>\n",
       "      <td>2020-03-23</td>\n",
       "      <td>5560.0</td>\n",
       "      <td>649.0</td>\n",
       "      <td>NaN</td>\n",
       "    </tr>\n",
       "    <tr>\n",
       "      <th>80</th>\n",
       "      <td>2020-03-20</td>\n",
       "      <td>5322.0</td>\n",
       "      <td>429.0</td>\n",
       "      <td>NaN</td>\n",
       "    </tr>\n",
       "    <tr>\n",
       "      <th>85</th>\n",
       "      <td>2020-03-25</td>\n",
       "      <td>5249.0</td>\n",
       "      <td>743.0</td>\n",
       "      <td>NaN</td>\n",
       "    </tr>\n",
       "    <tr>\n",
       "      <th>90</th>\n",
       "      <td>2020-03-30</td>\n",
       "      <td>5217.0</td>\n",
       "      <td>758.0</td>\n",
       "      <td>NaN</td>\n",
       "    </tr>\n",
       "    <tr>\n",
       "      <th>86</th>\n",
       "      <td>2020-03-26</td>\n",
       "      <td>5210.0</td>\n",
       "      <td>685.0</td>\n",
       "      <td>NaN</td>\n",
       "    </tr>\n",
       "  </tbody>\n",
       "</table>\n",
       "</div>"
      ],
      "text/plain": [
       "          date  new_cases  new_deaths  new_tests\n",
       "82  2020-03-22     6557.0       795.0        NaN\n",
       "87  2020-03-27     6153.0       660.0        NaN\n",
       "81  2020-03-21     5986.0       625.0        NaN\n",
       "89  2020-03-29     5974.0       887.0        NaN\n",
       "88  2020-03-28     5959.0       971.0        NaN\n",
       "83  2020-03-23     5560.0       649.0        NaN\n",
       "80  2020-03-20     5322.0       429.0        NaN\n",
       "85  2020-03-25     5249.0       743.0        NaN\n",
       "90  2020-03-30     5217.0       758.0        NaN\n",
       "86  2020-03-26     5210.0       685.0        NaN"
      ]
     },
     "execution_count": 13,
     "metadata": {},
     "output_type": "execute_result"
    }
   ],
   "source": [
    "covid_df.sort_values('new_cases',ascending=False).head(10)"
   ]
  },
  {
   "cell_type": "code",
   "execution_count": 14,
   "id": "f9e0fcc7-26d0-4e6e-848d-7f3dee9b2d74",
   "metadata": {},
   "outputs": [
    {
     "data": {
      "text/html": [
       "<div>\n",
       "<style scoped>\n",
       "    .dataframe tbody tr th:only-of-type {\n",
       "        vertical-align: middle;\n",
       "    }\n",
       "\n",
       "    .dataframe tbody tr th {\n",
       "        vertical-align: top;\n",
       "    }\n",
       "\n",
       "    .dataframe thead th {\n",
       "        text-align: right;\n",
       "    }\n",
       "</style>\n",
       "<table border=\"1\" class=\"dataframe\">\n",
       "  <thead>\n",
       "    <tr style=\"text-align: right;\">\n",
       "      <th></th>\n",
       "      <th>date</th>\n",
       "      <th>new_cases</th>\n",
       "      <th>new_deaths</th>\n",
       "      <th>new_tests</th>\n",
       "    </tr>\n",
       "  </thead>\n",
       "  <tbody>\n",
       "    <tr>\n",
       "      <th>88</th>\n",
       "      <td>2020-03-28</td>\n",
       "      <td>5959.0</td>\n",
       "      <td>971.0</td>\n",
       "      <td>NaN</td>\n",
       "    </tr>\n",
       "    <tr>\n",
       "      <th>89</th>\n",
       "      <td>2020-03-29</td>\n",
       "      <td>5974.0</td>\n",
       "      <td>887.0</td>\n",
       "      <td>NaN</td>\n",
       "    </tr>\n",
       "    <tr>\n",
       "      <th>92</th>\n",
       "      <td>2020-04-01</td>\n",
       "      <td>4053.0</td>\n",
       "      <td>839.0</td>\n",
       "      <td>NaN</td>\n",
       "    </tr>\n",
       "    <tr>\n",
       "      <th>91</th>\n",
       "      <td>2020-03-31</td>\n",
       "      <td>4050.0</td>\n",
       "      <td>810.0</td>\n",
       "      <td>NaN</td>\n",
       "    </tr>\n",
       "    <tr>\n",
       "      <th>82</th>\n",
       "      <td>2020-03-22</td>\n",
       "      <td>6557.0</td>\n",
       "      <td>795.0</td>\n",
       "      <td>NaN</td>\n",
       "    </tr>\n",
       "    <tr>\n",
       "      <th>95</th>\n",
       "      <td>2020-04-04</td>\n",
       "      <td>4585.0</td>\n",
       "      <td>764.0</td>\n",
       "      <td>NaN</td>\n",
       "    </tr>\n",
       "    <tr>\n",
       "      <th>94</th>\n",
       "      <td>2020-04-03</td>\n",
       "      <td>4668.0</td>\n",
       "      <td>760.0</td>\n",
       "      <td>NaN</td>\n",
       "    </tr>\n",
       "    <tr>\n",
       "      <th>90</th>\n",
       "      <td>2020-03-30</td>\n",
       "      <td>5217.0</td>\n",
       "      <td>758.0</td>\n",
       "      <td>NaN</td>\n",
       "    </tr>\n",
       "    <tr>\n",
       "      <th>85</th>\n",
       "      <td>2020-03-25</td>\n",
       "      <td>5249.0</td>\n",
       "      <td>743.0</td>\n",
       "      <td>NaN</td>\n",
       "    </tr>\n",
       "    <tr>\n",
       "      <th>93</th>\n",
       "      <td>2020-04-02</td>\n",
       "      <td>4782.0</td>\n",
       "      <td>727.0</td>\n",
       "      <td>NaN</td>\n",
       "    </tr>\n",
       "  </tbody>\n",
       "</table>\n",
       "</div>"
      ],
      "text/plain": [
       "          date  new_cases  new_deaths  new_tests\n",
       "88  2020-03-28     5959.0       971.0        NaN\n",
       "89  2020-03-29     5974.0       887.0        NaN\n",
       "92  2020-04-01     4053.0       839.0        NaN\n",
       "91  2020-03-31     4050.0       810.0        NaN\n",
       "82  2020-03-22     6557.0       795.0        NaN\n",
       "95  2020-04-04     4585.0       764.0        NaN\n",
       "94  2020-04-03     4668.0       760.0        NaN\n",
       "90  2020-03-30     5217.0       758.0        NaN\n",
       "85  2020-03-25     5249.0       743.0        NaN\n",
       "93  2020-04-02     4782.0       727.0        NaN"
      ]
     },
     "execution_count": 14,
     "metadata": {},
     "output_type": "execute_result"
    }
   ],
   "source": [
    "covid_df.sort_values('new_deaths',ascending=False).head(10)"
   ]
  },
  {
   "cell_type": "code",
   "execution_count": 16,
   "id": "f133f3c8-c462-48e7-995c-99a165e83c40",
   "metadata": {},
   "outputs": [
    {
     "data": {
      "text/html": [
       "<div>\n",
       "<style scoped>\n",
       "    .dataframe tbody tr th:only-of-type {\n",
       "        vertical-align: middle;\n",
       "    }\n",
       "\n",
       "    .dataframe tbody tr th {\n",
       "        vertical-align: top;\n",
       "    }\n",
       "\n",
       "    .dataframe thead th {\n",
       "        text-align: right;\n",
       "    }\n",
       "</style>\n",
       "<table border=\"1\" class=\"dataframe\">\n",
       "  <thead>\n",
       "    <tr style=\"text-align: right;\">\n",
       "      <th></th>\n",
       "      <th>date</th>\n",
       "      <th>new_cases</th>\n",
       "      <th>new_deaths</th>\n",
       "      <th>new_tests</th>\n",
       "    </tr>\n",
       "  </thead>\n",
       "  <tbody>\n",
       "    <tr>\n",
       "      <th>172</th>\n",
       "      <td>2020-06-20</td>\n",
       "      <td>-148.0</td>\n",
       "      <td>47.0</td>\n",
       "      <td>29875.0</td>\n",
       "    </tr>\n",
       "    <tr>\n",
       "      <th>0</th>\n",
       "      <td>2019-12-31</td>\n",
       "      <td>0.0</td>\n",
       "      <td>0.0</td>\n",
       "      <td>NaN</td>\n",
       "    </tr>\n",
       "    <tr>\n",
       "      <th>29</th>\n",
       "      <td>2020-01-29</td>\n",
       "      <td>0.0</td>\n",
       "      <td>0.0</td>\n",
       "      <td>NaN</td>\n",
       "    </tr>\n",
       "    <tr>\n",
       "      <th>30</th>\n",
       "      <td>2020-01-30</td>\n",
       "      <td>0.0</td>\n",
       "      <td>0.0</td>\n",
       "      <td>NaN</td>\n",
       "    </tr>\n",
       "    <tr>\n",
       "      <th>32</th>\n",
       "      <td>2020-02-01</td>\n",
       "      <td>0.0</td>\n",
       "      <td>0.0</td>\n",
       "      <td>NaN</td>\n",
       "    </tr>\n",
       "    <tr>\n",
       "      <th>33</th>\n",
       "      <td>2020-02-02</td>\n",
       "      <td>0.0</td>\n",
       "      <td>0.0</td>\n",
       "      <td>NaN</td>\n",
       "    </tr>\n",
       "    <tr>\n",
       "      <th>34</th>\n",
       "      <td>2020-02-03</td>\n",
       "      <td>0.0</td>\n",
       "      <td>0.0</td>\n",
       "      <td>NaN</td>\n",
       "    </tr>\n",
       "    <tr>\n",
       "      <th>36</th>\n",
       "      <td>2020-02-05</td>\n",
       "      <td>0.0</td>\n",
       "      <td>0.0</td>\n",
       "      <td>NaN</td>\n",
       "    </tr>\n",
       "    <tr>\n",
       "      <th>37</th>\n",
       "      <td>2020-02-06</td>\n",
       "      <td>0.0</td>\n",
       "      <td>0.0</td>\n",
       "      <td>NaN</td>\n",
       "    </tr>\n",
       "    <tr>\n",
       "      <th>38</th>\n",
       "      <td>2020-02-07</td>\n",
       "      <td>0.0</td>\n",
       "      <td>0.0</td>\n",
       "      <td>NaN</td>\n",
       "    </tr>\n",
       "  </tbody>\n",
       "</table>\n",
       "</div>"
      ],
      "text/plain": [
       "           date  new_cases  new_deaths  new_tests\n",
       "172  2020-06-20     -148.0        47.0    29875.0\n",
       "0    2019-12-31        0.0         0.0        NaN\n",
       "29   2020-01-29        0.0         0.0        NaN\n",
       "30   2020-01-30        0.0         0.0        NaN\n",
       "32   2020-02-01        0.0         0.0        NaN\n",
       "33   2020-02-02        0.0         0.0        NaN\n",
       "34   2020-02-03        0.0         0.0        NaN\n",
       "36   2020-02-05        0.0         0.0        NaN\n",
       "37   2020-02-06        0.0         0.0        NaN\n",
       "38   2020-02-07        0.0         0.0        NaN"
      ]
     },
     "execution_count": 16,
     "metadata": {},
     "output_type": "execute_result"
    }
   ],
   "source": [
    "covid_df.sort_values('new_cases').head(10)"
   ]
  },
  {
   "cell_type": "code",
   "execution_count": 17,
   "id": "3fe9fbe0-6c37-40d3-9d9d-b16c2ceb0bd3",
   "metadata": {},
   "outputs": [
    {
     "name": "stdout",
     "output_type": "stream",
     "text": [
      "Requirement already satisfied: matplotlib in ./anaconda3/lib/python3.8/site-packages (3.3.4)\n",
      "Collecting and\n",
      "  Downloading and-0.1.1-py3-none-any.whl (2.0 kB)\n",
      "Requirement already satisfied: seaborn in ./anaconda3/lib/python3.8/site-packages (0.11.1)\n",
      "Requirement already satisfied: python-dateutil>=2.1 in ./anaconda3/lib/python3.8/site-packages (from matplotlib) (2.8.1)\n",
      "Requirement already satisfied: pillow>=6.2.0 in ./anaconda3/lib/python3.8/site-packages (from matplotlib) (8.2.0)\n",
      "Requirement already satisfied: numpy>=1.15 in ./anaconda3/lib/python3.8/site-packages (from matplotlib) (1.21.0)\n",
      "Requirement already satisfied: pyparsing!=2.0.4,!=2.1.2,!=2.1.6,>=2.0.3 in ./.local/lib/python3.8/site-packages (from matplotlib) (2.4.7)\n",
      "Requirement already satisfied: kiwisolver>=1.0.1 in ./anaconda3/lib/python3.8/site-packages (from matplotlib) (1.3.1)\n",
      "Requirement already satisfied: cycler>=0.10 in ./anaconda3/lib/python3.8/site-packages (from matplotlib) (0.10.0)\n",
      "Requirement already satisfied: six in ./anaconda3/lib/python3.8/site-packages (from cycler>=0.10->matplotlib) (1.15.0)\n",
      "Requirement already satisfied: scipy>=1.0 in ./anaconda3/lib/python3.8/site-packages (from seaborn) (1.6.2)\n",
      "Requirement already satisfied: pandas>=0.23 in ./.local/lib/python3.8/site-packages (from seaborn) (1.2.4)\n",
      "Requirement already satisfied: pytz>=2017.3 in ./anaconda3/lib/python3.8/site-packages (from pandas>=0.23->seaborn) (2021.1)\n",
      "Installing collected packages: and\n",
      "Successfully installed and-0.1.1\n"
     ]
    }
   ],
   "source": [
    "!pip install matplotlib and seaborn"
   ]
  },
  {
   "cell_type": "code",
   "execution_count": 20,
   "id": "d8c9ab45-bdf6-4b71-bae1-7446aec63c3f",
   "metadata": {},
   "outputs": [],
   "source": [
    "import matplotlib.pyplot as plt\n",
    "import seaborn as sns\n",
    "%matplotlib inline"
   ]
  },
  {
   "cell_type": "code",
   "execution_count": 24,
   "id": "c6af0185-0a7d-487e-b30b-eae307874c7a",
   "metadata": {},
   "outputs": [
    {
     "data": {
      "image/png": "[encoded data removed]",
      "text/plain": [
       "<Figure size 432x288 with 1 Axes>"
      ]
     },
     "metadata": {
      "needs_background": "light"
     },
     "output_type": "display_data"
    }
   ],
   "source": [
    "yield_apples=[0.895,0.91,0.919,0.926,0.929,0.931]\n",
    "plt.plot(yield_apples);"
   ]
  },
  {
   "cell_type": "code",
   "execution_count": 33,
   "id": "d9a3be17-28dd-4f21-8fa3-f3aba6a37557",
   "metadata": {},
   "outputs": [
    {
     "data": {
      "image/png": "[encoded data removed]",
      "text/plain": [
       "<Figure size 432x288 with 1 Axes>"
      ]
     },
     "metadata": {
      "needs_background": "light"
     },
     "output_type": "display_data"
    }
   ],
   "source": [
    "years=[2010,2011,2012,2013,2014,2015]\n",
    "yield_apples=[0.895,0.91,0.919,0.926,0.929,0.931]\n",
    "plt.plot(years,yield_apples)\n",
    "plt.xlabel('year')\n",
    "plt.ylabel('yield (tons per hectare)');"
   ]
  },
  {
   "cell_type": "code",
   "execution_count": 35,
   "id": "2271fe90-d304-4af0-852e-d49ad236d361",
   "metadata": {},
   "outputs": [
    {
     "data": {
      "text/plain": [
       "Text(0, 0.5, 'yield')"
      ]
     },
     "execution_count": 35,
     "metadata": {},
     "output_type": "execute_result"
    },
    {
     "data": {
      "image/png": "[encoded data removed]",
      "text/plain": [
       "<Figure size 432x288 with 1 Axes>"
      ]
     },
     "metadata": {
      "needs_background": "light"
     },
     "output_type": "display_data"
    }
   ],
   "source": [
    "years = range(2000, 2012)\n",
    "apples = [0.895, 0.91, 0.919, 0.926, 0.929, 0.931, 0.934, 0.936, 0.937, 0.9375, 0.9372, 0.939]\n",
    "oranges = [0.962, 0.941, 0.930, 0.923, 0.918, 0.908, 0.907, 0.904, 0.901, 0.898, 0.9, 0.896 ]\n",
    "plt.plot(years,apples)\n",
    "plt.plot(years,oranges)\n",
    "plt.xlabel('year')\n",
    "plt.ylabel('yield')"
   ]
  },
  {
   "cell_type": "code",
   "execution_count": 39,
   "id": "f44a667a-c93b-4c1f-8847-6265c93571ad",
   "metadata": {},
   "outputs": [],
   "source": [
    "flowers_df=sns.load_dataset('iris')"
   ]
  },
  {
   "cell_type": "code",
   "execution_count": 40,
   "id": "93f86d8e-54d2-4a3e-85c1-e7f418338a8f",
   "metadata": {},
   "outputs": [
    {
     "data": {
      "text/html": [
       "<div>\n",
       "<style scoped>\n",
       "    .dataframe tbody tr th:only-of-type {\n",
       "        vertical-align: middle;\n",
       "    }\n",
       "\n",
       "    .dataframe tbody tr th {\n",
       "        vertical-align: top;\n",
       "    }\n",
       "\n",
       "    .dataframe thead th {\n",
       "        text-align: right;\n",
       "    }\n",
       "</style>\n",
       "<table border=\"1\" class=\"dataframe\">\n",
       "  <thead>\n",
       "    <tr style=\"text-align: right;\">\n",
       "      <th></th>\n",
       "      <th>sepal_length</th>\n",
       "      <th>sepal_width</th>\n",
       "      <th>petal_length</th>\n",
       "      <th>petal_width</th>\n",
       "      <th>species</th>\n",
       "    </tr>\n",
       "  </thead>\n",
       "  <tbody>\n",
       "    <tr>\n",
       "      <th>0</th>\n",
       "      <td>5.1</td>\n",
       "      <td>3.5</td>\n",
       "      <td>1.4</td>\n",
       "      <td>0.2</td>\n",
       "      <td>setosa</td>\n",
       "    </tr>\n",
       "    <tr>\n",
       "      <th>1</th>\n",
       "      <td>4.9</td>\n",
       "      <td>3.0</td>\n",
       "      <td>1.4</td>\n",
       "      <td>0.2</td>\n",
       "      <td>setosa</td>\n",
       "    </tr>\n",
       "    <tr>\n",
       "      <th>2</th>\n",
       "      <td>4.7</td>\n",
       "      <td>3.2</td>\n",
       "      <td>1.3</td>\n",
       "      <td>0.2</td>\n",
       "      <td>setosa</td>\n",
       "    </tr>\n",
       "    <tr>\n",
       "      <th>3</th>\n",
       "      <td>4.6</td>\n",
       "      <td>3.1</td>\n",
       "      <td>1.5</td>\n",
       "      <td>0.2</td>\n",
       "      <td>setosa</td>\n",
       "    </tr>\n",
       "    <tr>\n",
       "      <th>4</th>\n",
       "      <td>5.0</td>\n",
       "      <td>3.6</td>\n",
       "      <td>1.4</td>\n",
       "      <td>0.2</td>\n",
       "      <td>setosa</td>\n",
       "    </tr>\n",
       "    <tr>\n",
       "      <th>...</th>\n",
       "      <td>...</td>\n",
       "      <td>...</td>\n",
       "      <td>...</td>\n",
       "      <td>...</td>\n",
       "      <td>...</td>\n",
       "    </tr>\n",
       "    <tr>\n",
       "      <th>145</th>\n",
       "      <td>6.7</td>\n",
       "      <td>3.0</td>\n",
       "      <td>5.2</td>\n",
       "      <td>2.3</td>\n",
       "      <td>virginica</td>\n",
       "    </tr>\n",
       "    <tr>\n",
       "      <th>146</th>\n",
       "      <td>6.3</td>\n",
       "      <td>2.5</td>\n",
       "      <td>5.0</td>\n",
       "      <td>1.9</td>\n",
       "      <td>virginica</td>\n",
       "    </tr>\n",
       "    <tr>\n",
       "      <th>147</th>\n",
       "      <td>6.5</td>\n",
       "      <td>3.0</td>\n",
       "      <td>5.2</td>\n",
       "      <td>2.0</td>\n",
       "      <td>virginica</td>\n",
       "    </tr>\n",
       "    <tr>\n",
       "      <th>148</th>\n",
       "      <td>6.2</td>\n",
       "      <td>3.4</td>\n",
       "      <td>5.4</td>\n",
       "      <td>2.3</td>\n",
       "      <td>virginica</td>\n",
       "    </tr>\n",
       "    <tr>\n",
       "      <th>149</th>\n",
       "      <td>5.9</td>\n",
       "      <td>3.0</td>\n",
       "      <td>5.1</td>\n",
       "      <td>1.8</td>\n",
       "      <td>virginica</td>\n",
       "    </tr>\n",
       "  </tbody>\n",
       "</table>\n",
       "<p>150 rows × 5 columns</p>\n",
       "</div>"
      ],
      "text/plain": [
       "     sepal_length  sepal_width  petal_length  petal_width    species\n",
       "0             5.1          3.5           1.4          0.2     setosa\n",
       "1             4.9          3.0           1.4          0.2     setosa\n",
       "2             4.7          3.2           1.3          0.2     setosa\n",
       "3             4.6          3.1           1.5          0.2     setosa\n",
       "4             5.0          3.6           1.4          0.2     setosa\n",
       "..            ...          ...           ...          ...        ...\n",
       "145           6.7          3.0           5.2          2.3  virginica\n",
       "146           6.3          2.5           5.0          1.9  virginica\n",
       "147           6.5          3.0           5.2          2.0  virginica\n",
       "148           6.2          3.4           5.4          2.3  virginica\n",
       "149           5.9          3.0           5.1          1.8  virginica\n",
       "\n",
       "[150 rows x 5 columns]"
      ]
     },
     "execution_count": 40,
     "metadata": {},
     "output_type": "execute_result"
    }
   ],
   "source": [
    "flowers_df"
   ]
  },
  {
   "cell_type": "code",
   "execution_count": 41,
   "id": "68d9aa8e-1878-4c8b-8442-908722ec0fb9",
   "metadata": {},
   "outputs": [
    {
     "data": {
      "text/plain": [
       "array(['setosa', 'versicolor', 'virginica'], dtype=object)"
      ]
     },
     "execution_count": 41,
     "metadata": {},
     "output_type": "execute_result"
    }
   ],
   "source": [
    "flowers_df.species.unique()"
   ]
  },
  {
   "cell_type": "code",
   "execution_count": 44,
   "id": "63029e93-b560-4de7-bcf7-be69483475a3",
   "metadata": {},
   "outputs": [
    {
     "data": {
      "image/png": "[encoded data removed]",
      "text/plain": [
       "<Figure size 432x288 with 1 Axes>"
      ]
     },
     "metadata": {
      "needs_background": "light"
     },
     "output_type": "display_data"
    }
   ],
   "source": [
    "plt.plot(flowers_df.sepal_length,flowers_df.sepal_width);"
   ]
  },
  {
   "cell_type": "code",
   "execution_count": 46,
   "id": "7a2b95f7-c79f-47f0-b1b6-c9d9f1340dcc",
   "metadata": {},
   "outputs": [
    {
     "name": "stderr",
     "output_type": "stream",
     "text": [
      "/home/krishna/anaconda3/lib/python3.8/site-packages/seaborn/_decorators.py:36: FutureWarning: Pass the following variables as keyword args: x, y. From version 0.12, the only valid positional argument will be `data`, and passing other arguments without an explicit keyword will result in an error or misinterpretation.\n",
      "  warnings.warn(\n"
     ]
    },
    {
     "data": {
      "image/png": "[encoded data removed]",
      "text/plain": [
       "<Figure size 432x288 with 1 Axes>"
      ]
     },
     "metadata": {
      "needs_background": "light"
     },
     "output_type": "display_data"
    }
   ],
   "source": [
    "sns.scatterplot(flowers_df.sepal_length,flowers_df.sepal_width);"
   ]
  },
  {
   "cell_type": "code",
   "execution_count": 52,
   "id": "c1bf6c34-9a9c-4a4f-931e-9bc4b547c824",
   "metadata": {},
   "outputs": [
    {
     "name": "stderr",
     "output_type": "stream",
     "text": [
      "/home/krishna/anaconda3/lib/python3.8/site-packages/seaborn/_decorators.py:36: FutureWarning: Pass the following variables as keyword args: x, y. From version 0.12, the only valid positional argument will be `data`, and passing other arguments without an explicit keyword will result in an error or misinterpretation.\n",
      "  warnings.warn(\n"
     ]
    },
    {
     "data": {
      "image/png": "[encoded data removed]",
      "text/plain": [
       "<Figure size 864x432 with 1 Axes>"
      ]
     },
     "metadata": {
      "needs_background": "light"
     },
     "output_type": "display_data"
    }
   ],
   "source": [
    "plt.figure(figsize=(12,6))\n",
    "plt.title('special Dimensions')\n",
    "sns.scatterplot(flowers_df.sepal_length,flowers_df.sepal_width,hue=flowers_df.species,s=120);"
   ]
  },
  {
   "cell_type": "code",
   "execution_count": 53,
   "id": "164ba745-3ce8-4fe5-a1c5-e2dbf9fb28ae",
   "metadata": {},
   "outputs": [
    {
     "name": "stderr",
     "output_type": "stream",
     "text": [
      "/home/krishna/anaconda3/lib/python3.8/site-packages/seaborn/_decorators.py:36: FutureWarning: Pass the following variables as keyword args: x, y. From version 0.12, the only valid positional argument will be `data`, and passing other arguments without an explicit keyword will result in an error or misinterpretation.\n",
      "  warnings.warn(\n"
     ]
    },
    {
     "data": {
      "image/png": "[encoded data removed]",
      "text/plain": [
       "<Figure size 432x288 with 1 Axes>"
      ]
     },
     "metadata": {
      "needs_background": "light"
     },
     "output_type": "display_data"
    }
   ],
   "source": [
    "plt.title('Sepal Dimensions')\n",
    "sns.scatterplot('sepal_length','sepal_width',hue='species',s=100,data=flowers_df);"
   ]
  },
  {
   "cell_type": "code",
   "execution_count": 54,
   "id": "cbf89fbd-ca15-4301-98e7-cd3bb4b181fe",
   "metadata": {},
   "outputs": [],
   "source": [
    "flowers_df=sns.load_dataset('iris')\n"
   ]
  },
  {
   "cell_type": "code",
   "execution_count": 55,
   "id": "3891ee52-540e-4a60-a92e-f5838841d9d7",
   "metadata": {},
   "outputs": [
    {
     "data": {
      "text/plain": [
       "0      3.5\n",
       "1      3.0\n",
       "2      3.2\n",
       "3      3.1\n",
       "4      3.6\n",
       "      ... \n",
       "145    3.0\n",
       "146    2.5\n",
       "147    3.0\n",
       "148    3.4\n",
       "149    3.0\n",
       "Name: sepal_width, Length: 150, dtype: float64"
      ]
     },
     "execution_count": 55,
     "metadata": {},
     "output_type": "execute_result"
    }
   ],
   "source": [
    "flowers_df.sepal_width"
   ]
  },
  {
   "cell_type": "code",
   "execution_count": 56,
   "id": "f2d97f76-e50f-4c0d-8736-a2115847893e",
   "metadata": {},
   "outputs": [
    {
     "data": {
      "text/plain": [
       "(array([ 4.,  7., 22., 24., 37., 31., 10., 11.,  2.,  2.]),\n",
       " array([2.  , 2.24, 2.48, 2.72, 2.96, 3.2 , 3.44, 3.68, 3.92, 4.16, 4.4 ]),\n",
       " <BarContainer object of 10 artists>)"
      ]
     },
     "execution_count": 56,
     "metadata": {},
     "output_type": "execute_result"
    },
    {
     "data": {
      "image/png": "[encoded data removed]",
      "text/plain": [
       "<Figure size 432x288 with 1 Axes>"
      ]
     },
     "metadata": {
      "needs_background": "light"
     },
     "output_type": "display_data"
    }
   ],
   "source": [
    "plt.title('distribution of sepal width')\n",
    "plt.hist(flowers_df.sepal_width)"
   ]
  },
  {
   "cell_type": "code",
   "execution_count": 57,
   "id": "30e402b4-f0d1-41fa-93df-0997a6e8dc3b",
   "metadata": {},
   "outputs": [
    {
     "data": {
      "text/html": [
       "<div>\n",
       "<style scoped>\n",
       "    .dataframe tbody tr th:only-of-type {\n",
       "        vertical-align: middle;\n",
       "    }\n",
       "\n",
       "    .dataframe tbody tr th {\n",
       "        vertical-align: top;\n",
       "    }\n",
       "\n",
       "    .dataframe thead th {\n",
       "        text-align: right;\n",
       "    }\n",
       "</style>\n",
       "<table border=\"1\" class=\"dataframe\">\n",
       "  <thead>\n",
       "    <tr style=\"text-align: right;\">\n",
       "      <th></th>\n",
       "      <th>sepal_length</th>\n",
       "      <th>sepal_width</th>\n",
       "      <th>petal_length</th>\n",
       "      <th>petal_width</th>\n",
       "    </tr>\n",
       "  </thead>\n",
       "  <tbody>\n",
       "    <tr>\n",
       "      <th>count</th>\n",
       "      <td>150.000000</td>\n",
       "      <td>150.000000</td>\n",
       "      <td>150.000000</td>\n",
       "      <td>150.000000</td>\n",
       "    </tr>\n",
       "    <tr>\n",
       "      <th>mean</th>\n",
       "      <td>5.843333</td>\n",
       "      <td>3.057333</td>\n",
       "      <td>3.758000</td>\n",
       "      <td>1.199333</td>\n",
       "    </tr>\n",
       "    <tr>\n",
       "      <th>std</th>\n",
       "      <td>0.828066</td>\n",
       "      <td>0.435866</td>\n",
       "      <td>1.765298</td>\n",
       "      <td>0.762238</td>\n",
       "    </tr>\n",
       "    <tr>\n",
       "      <th>min</th>\n",
       "      <td>4.300000</td>\n",
       "      <td>2.000000</td>\n",
       "      <td>1.000000</td>\n",
       "      <td>0.100000</td>\n",
       "    </tr>\n",
       "    <tr>\n",
       "      <th>25%</th>\n",
       "      <td>5.100000</td>\n",
       "      <td>2.800000</td>\n",
       "      <td>1.600000</td>\n",
       "      <td>0.300000</td>\n",
       "    </tr>\n",
       "    <tr>\n",
       "      <th>50%</th>\n",
       "      <td>5.800000</td>\n",
       "      <td>3.000000</td>\n",
       "      <td>4.350000</td>\n",
       "      <td>1.300000</td>\n",
       "    </tr>\n",
       "    <tr>\n",
       "      <th>75%</th>\n",
       "      <td>6.400000</td>\n",
       "      <td>3.300000</td>\n",
       "      <td>5.100000</td>\n",
       "      <td>1.800000</td>\n",
       "    </tr>\n",
       "    <tr>\n",
       "      <th>max</th>\n",
       "      <td>7.900000</td>\n",
       "      <td>4.400000</td>\n",
       "      <td>6.900000</td>\n",
       "      <td>2.500000</td>\n",
       "    </tr>\n",
       "  </tbody>\n",
       "</table>\n",
       "</div>"
      ],
      "text/plain": [
       "       sepal_length  sepal_width  petal_length  petal_width\n",
       "count    150.000000   150.000000    150.000000   150.000000\n",
       "mean       5.843333     3.057333      3.758000     1.199333\n",
       "std        0.828066     0.435866      1.765298     0.762238\n",
       "min        4.300000     2.000000      1.000000     0.100000\n",
       "25%        5.100000     2.800000      1.600000     0.300000\n",
       "50%        5.800000     3.000000      4.350000     1.300000\n",
       "75%        6.400000     3.300000      5.100000     1.800000\n",
       "max        7.900000     4.400000      6.900000     2.500000"
      ]
     },
     "execution_count": 57,
     "metadata": {},
     "output_type": "execute_result"
    }
   ],
   "source": [
    "flowers_df.describe()"
   ]
  },
  {
   "cell_type": "code",
   "execution_count": null,
   "id": "2b234a0a-32cd-4f49-b1b4-c5f1d3ea5f19",
   "metadata": {},
   "outputs": [],
   "source": [
    "plt.title('distribution of sepal_width')\n",
    "plt.hist(flowers_df)"
   ]
  },
  {
   "cell_type": "code",
   "execution_count": 58,
   "id": "dfc44151-643b-4fd8-8b0c-dab8313214db",
   "metadata": {},
   "outputs": [
    {
     "data": {
      "text/plain": [
       "array([2.  , 2.25, 2.5 , 2.75, 3.  , 3.25, 3.5 , 3.75, 4.  , 4.25, 4.5 ,\n",
       "       4.75])"
      ]
     },
     "execution_count": 58,
     "metadata": {},
     "output_type": "execute_result"
    }
   ],
   "source": [
    "import numpy as np\n",
    "np.arange(2,5,0.25)"
   ]
  },
  {
   "cell_type": "code",
   "execution_count": 60,
   "id": "72e239d6-7764-4341-b8aa-8fe1d931aa6a",
   "metadata": {},
   "outputs": [
    {
     "data": {
      "text/plain": [
       "(array([ 4.,  7., 22., 24., 50., 18., 13.,  8.,  3.,  1.,  0.]),\n",
       " array([2.  , 2.25, 2.5 , 2.75, 3.  , 3.25, 3.5 , 3.75, 4.  , 4.25, 4.5 ,\n",
       "        4.75]),\n",
       " <BarContainer object of 11 artists>)"
      ]
     },
     "execution_count": 60,
     "metadata": {},
     "output_type": "execute_result"
    },
    {
     "data": {
      "image/png": "[encoded data removed]",
      "text/plain": [
       "<Figure size 432x288 with 1 Axes>"
      ]
     },
     "metadata": {
      "needs_background": "light"
     },
     "output_type": "display_data"
    }
   ],
   "source": [
    "import numpy as np\n",
    "plt.hist(flowers_df.sepal_width,bins=np.arange(2,5,0.25))"
   ]
  },
  {
   "cell_type": "code",
   "execution_count": 61,
   "id": "c7939f3d-303b-4b18-921b-a839a639e304",
   "metadata": {},
   "outputs": [],
   "source": [
    "years=range(2000,2006)\n",
    "apples=[0.35,0.6,0.9,0.8,0.65,0.8]\n",
    "oranges=[0.4,0.8,0.9,0.7,0.6,0.8]"
   ]
  },
  {
   "cell_type": "code",
   "execution_count": 63,
   "id": "c481ef6a-6d87-468a-a2fd-a69513f8a5e9",
   "metadata": {},
   "outputs": [
    {
     "data": {
      "image/png": "[encoded data removed]",
      "text/plain": [
       "<Figure size 432x288 with 1 Axes>"
      ]
     },
     "metadata": {
      "needs_background": "light"
     },
     "output_type": "display_data"
    }
   ],
   "source": [
    "plt.plot(years,apples);"
   ]
  },
  {
   "cell_type": "code",
   "execution_count": 65,
   "id": "88114ce1-8042-4525-aa78-4d10cdf10626",
   "metadata": {},
   "outputs": [
    {
     "data": {
      "image/png": "[encoded data removed]",
      "text/plain": [
       "<Figure size 432x288 with 1 Axes>"
      ]
     },
     "metadata": {
      "needs_background": "light"
     },
     "output_type": "display_data"
    }
   ],
   "source": [
    "plt.bar(years,apples);"
   ]
  },
  {
   "cell_type": "code",
   "execution_count": 67,
   "id": "11ff55d3-3854-4ad3-8283-0d6953213c93",
   "metadata": {},
   "outputs": [
    {
     "data": {
      "image/png": "[encoded data removed]",
      "text/plain": [
       "<Figure size 432x288 with 1 Axes>"
      ]
     },
     "metadata": {
      "needs_background": "light"
     },
     "output_type": "display_data"
    }
   ],
   "source": [
    "plt.bar(years,oranges)\n",
    "plt.plot(years,oranges,'o--r');"
   ]
  },
  {
   "cell_type": "code",
   "execution_count": 70,
   "id": "5a9a8960-8734-4eb9-99f6-a0bd7835164e",
   "metadata": {},
   "outputs": [
    {
     "data": {
      "text/plain": [
       "<matplotlib.legend.Legend at 0x7fc5cb33e550>"
      ]
     },
     "execution_count": 70,
     "metadata": {},
     "output_type": "execute_result"
    },
    {
     "data": {
      "image/png": "[encoded data removed]",
      "text/plain": [
       "<Figure size 432x288 with 1 Axes>"
      ]
     },
     "metadata": {
      "needs_background": "light"
     },
     "output_type": "display_data"
    }
   ],
   "source": [
    "plt.bar(years,apples);\n",
    "plt.bar(years,oranges,bottom=apples);\n",
    "plt.legend(['oranges','apples'])\n"
   ]
  },
  {
   "cell_type": "code",
   "execution_count": 72,
   "id": "12afce98-d1e1-4c7c-a0fd-b5a7e7ac80a6",
   "metadata": {},
   "outputs": [],
   "source": [
    "tips_df=sns.load_dataset('tips');"
   ]
  },
  {
   "cell_type": "code",
   "execution_count": 73,
   "id": "013bd671-21c1-4734-b5e6-bacfdfabe8c5",
   "metadata": {},
   "outputs": [
    {
     "data": {
      "text/html": [
       "<div>\n",
       "<style scoped>\n",
       "    .dataframe tbody tr th:only-of-type {\n",
       "        vertical-align: middle;\n",
       "    }\n",
       "\n",
       "    .dataframe tbody tr th {\n",
       "        vertical-align: top;\n",
       "    }\n",
       "\n",
       "    .dataframe thead th {\n",
       "        text-align: right;\n",
       "    }\n",
       "</style>\n",
       "<table border=\"1\" class=\"dataframe\">\n",
       "  <thead>\n",
       "    <tr style=\"text-align: right;\">\n",
       "      <th></th>\n",
       "      <th>total_bill</th>\n",
       "      <th>tip</th>\n",
       "      <th>sex</th>\n",
       "      <th>smoker</th>\n",
       "      <th>day</th>\n",
       "      <th>time</th>\n",
       "      <th>size</th>\n",
       "    </tr>\n",
       "  </thead>\n",
       "  <tbody>\n",
       "    <tr>\n",
       "      <th>0</th>\n",
       "      <td>16.99</td>\n",
       "      <td>1.01</td>\n",
       "      <td>Female</td>\n",
       "      <td>No</td>\n",
       "      <td>Sun</td>\n",
       "      <td>Dinner</td>\n",
       "      <td>2</td>\n",
       "    </tr>\n",
       "    <tr>\n",
       "      <th>1</th>\n",
       "      <td>10.34</td>\n",
       "      <td>1.66</td>\n",
       "      <td>Male</td>\n",
       "      <td>No</td>\n",
       "      <td>Sun</td>\n",
       "      <td>Dinner</td>\n",
       "      <td>3</td>\n",
       "    </tr>\n",
       "    <tr>\n",
       "      <th>2</th>\n",
       "      <td>21.01</td>\n",
       "      <td>3.50</td>\n",
       "      <td>Male</td>\n",
       "      <td>No</td>\n",
       "      <td>Sun</td>\n",
       "      <td>Dinner</td>\n",
       "      <td>3</td>\n",
       "    </tr>\n",
       "    <tr>\n",
       "      <th>3</th>\n",
       "      <td>23.68</td>\n",
       "      <td>3.31</td>\n",
       "      <td>Male</td>\n",
       "      <td>No</td>\n",
       "      <td>Sun</td>\n",
       "      <td>Dinner</td>\n",
       "      <td>2</td>\n",
       "    </tr>\n",
       "    <tr>\n",
       "      <th>4</th>\n",
       "      <td>24.59</td>\n",
       "      <td>3.61</td>\n",
       "      <td>Female</td>\n",
       "      <td>No</td>\n",
       "      <td>Sun</td>\n",
       "      <td>Dinner</td>\n",
       "      <td>4</td>\n",
       "    </tr>\n",
       "    <tr>\n",
       "      <th>...</th>\n",
       "      <td>...</td>\n",
       "      <td>...</td>\n",
       "      <td>...</td>\n",
       "      <td>...</td>\n",
       "      <td>...</td>\n",
       "      <td>...</td>\n",
       "      <td>...</td>\n",
       "    </tr>\n",
       "    <tr>\n",
       "      <th>239</th>\n",
       "      <td>29.03</td>\n",
       "      <td>5.92</td>\n",
       "      <td>Male</td>\n",
       "      <td>No</td>\n",
       "      <td>Sat</td>\n",
       "      <td>Dinner</td>\n",
       "      <td>3</td>\n",
       "    </tr>\n",
       "    <tr>\n",
       "      <th>240</th>\n",
       "      <td>27.18</td>\n",
       "      <td>2.00</td>\n",
       "      <td>Female</td>\n",
       "      <td>Yes</td>\n",
       "      <td>Sat</td>\n",
       "      <td>Dinner</td>\n",
       "      <td>2</td>\n",
       "    </tr>\n",
       "    <tr>\n",
       "      <th>241</th>\n",
       "      <td>22.67</td>\n",
       "      <td>2.00</td>\n",
       "      <td>Male</td>\n",
       "      <td>Yes</td>\n",
       "      <td>Sat</td>\n",
       "      <td>Dinner</td>\n",
       "      <td>2</td>\n",
       "    </tr>\n",
       "    <tr>\n",
       "      <th>242</th>\n",
       "      <td>17.82</td>\n",
       "      <td>1.75</td>\n",
       "      <td>Male</td>\n",
       "      <td>No</td>\n",
       "      <td>Sat</td>\n",
       "      <td>Dinner</td>\n",
       "      <td>2</td>\n",
       "    </tr>\n",
       "    <tr>\n",
       "      <th>243</th>\n",
       "      <td>18.78</td>\n",
       "      <td>3.00</td>\n",
       "      <td>Female</td>\n",
       "      <td>No</td>\n",
       "      <td>Thur</td>\n",
       "      <td>Dinner</td>\n",
       "      <td>2</td>\n",
       "    </tr>\n",
       "  </tbody>\n",
       "</table>\n",
       "<p>244 rows × 7 columns</p>\n",
       "</div>"
      ],
      "text/plain": [
       "     total_bill   tip     sex smoker   day    time  size\n",
       "0         16.99  1.01  Female     No   Sun  Dinner     2\n",
       "1         10.34  1.66    Male     No   Sun  Dinner     3\n",
       "2         21.01  3.50    Male     No   Sun  Dinner     3\n",
       "3         23.68  3.31    Male     No   Sun  Dinner     2\n",
       "4         24.59  3.61  Female     No   Sun  Dinner     4\n",
       "..          ...   ...     ...    ...   ...     ...   ...\n",
       "239       29.03  5.92    Male     No   Sat  Dinner     3\n",
       "240       27.18  2.00  Female    Yes   Sat  Dinner     2\n",
       "241       22.67  2.00    Male    Yes   Sat  Dinner     2\n",
       "242       17.82  1.75    Male     No   Sat  Dinner     2\n",
       "243       18.78  3.00  Female     No  Thur  Dinner     2\n",
       "\n",
       "[244 rows x 7 columns]"
      ]
     },
     "execution_count": 73,
     "metadata": {},
     "output_type": "execute_result"
    }
   ],
   "source": [
    "tips_df"
   ]
  },
  {
   "cell_type": "code",
   "execution_count": null,
   "id": "78fceece-2f2e-409d-94ff-161f483d77db",
   "metadata": {},
   "outputs": [],
   "source": [
    "sns.barplot('day','total_bill',data=tips_ )"
   ]
  }
 ],
 "metadata": {
  "kernelspec": {
   "display_name": "Python 3",
   "language": "python",
   "name": "python3"
  },
  "language_info": {
   "codemirror_mode": {
    "name": "ipython",
    "version": 3
   },
   "file_extension": ".py",
   "mimetype": "text/x-python",
   "name": "python",
   "nbconvert_exporter": "python",
   "pygments_lexer": "ipython3",
   "version": "3.8.8"
  }
 },
 "nbformat": 4,
 "nbformat_minor": 5
}
